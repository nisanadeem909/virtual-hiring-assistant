{
 "cells": [
  {
   "cell_type": "markdown",
   "metadata": {},
   "source": [
    "Extracting audios"
   ]
  },
  {
   "cell_type": "code",
   "execution_count": 1,
   "metadata": {},
   "outputs": [
    {
     "name": "stdout",
     "output_type": "stream",
     "text": [
      "MoviePy - Writing audio in Audios\\P62.wav\n"
     ]
    },
    {
     "name": "stderr",
     "output_type": "stream",
     "text": [
      "                                                                      \r"
     ]
    },
    {
     "name": "stdout",
     "output_type": "stream",
     "text": [
      "MoviePy - Done.\n",
      "Audio extracted successfully from ..\\P62.mp4!\n",
      "MoviePy - Writing audio in Audios\\P65.wav\n"
     ]
    },
    {
     "name": "stderr",
     "output_type": "stream",
     "text": [
      "                                                                      \r"
     ]
    },
    {
     "name": "stdout",
     "output_type": "stream",
     "text": [
      "MoviePy - Done.\n",
      "Audio extracted successfully from ..\\P65.mp4!\n",
      "MoviePy - Writing audio in Audios\\P64.wav\n"
     ]
    },
    {
     "name": "stderr",
     "output_type": "stream",
     "text": [
      "                                                                      \r"
     ]
    },
    {
     "name": "stdout",
     "output_type": "stream",
     "text": [
      "MoviePy - Done.\n",
      "Audio extracted successfully from ..\\P64.mp4!\n",
      "MoviePy - Writing audio in Audios\\P63.wav\n"
     ]
    },
    {
     "name": "stderr",
     "output_type": "stream",
     "text": [
      "                                                                      \r"
     ]
    },
    {
     "name": "stdout",
     "output_type": "stream",
     "text": [
      "MoviePy - Done.\n",
      "Audio extracted successfully from ..\\P63.mp4!\n",
      "MoviePy - Writing audio in Audios\\P66.wav\n"
     ]
    },
    {
     "name": "stderr",
     "output_type": "stream",
     "text": [
      "                                                                      \r"
     ]
    },
    {
     "name": "stdout",
     "output_type": "stream",
     "text": [
      "MoviePy - Done.\n",
      "Audio extracted successfully from ..\\P66.mp4!\n",
      "MoviePy - Writing audio in Audios\\P67.wav\n"
     ]
    },
    {
     "name": "stderr",
     "output_type": "stream",
     "text": [
      "                                                                      \r"
     ]
    },
    {
     "name": "stdout",
     "output_type": "stream",
     "text": [
      "MoviePy - Done.\n",
      "Audio extracted successfully from ..\\P67.mp4!\n",
      "MoviePy - Writing audio in Audios\\P69.wav\n"
     ]
    },
    {
     "name": "stderr",
     "output_type": "stream",
     "text": [
      "                                                                      \r"
     ]
    },
    {
     "name": "stdout",
     "output_type": "stream",
     "text": [
      "MoviePy - Done.\n",
      "Audio extracted successfully from ..\\P69.mp4!\n",
      "MoviePy - Writing audio in Audios\\P70.wav\n"
     ]
    },
    {
     "name": "stderr",
     "output_type": "stream",
     "text": [
      "                                                                      \r"
     ]
    },
    {
     "name": "stdout",
     "output_type": "stream",
     "text": [
      "MoviePy - Done.\n",
      "Audio extracted successfully from ..\\P70.mp4!\n",
      "MoviePy - Writing audio in Audios\\P71.wav\n"
     ]
    },
    {
     "name": "stderr",
     "output_type": "stream",
     "text": [
      "                                                                      \r"
     ]
    },
    {
     "name": "stdout",
     "output_type": "stream",
     "text": [
      "MoviePy - Done.\n",
      "Audio extracted successfully from ..\\P71.mp4!\n",
      "MoviePy - Writing audio in Audios\\P72.wav\n"
     ]
    },
    {
     "name": "stderr",
     "output_type": "stream",
     "text": [
      "                                                                      \r"
     ]
    },
    {
     "name": "stdout",
     "output_type": "stream",
     "text": [
      "MoviePy - Done.\n",
      "Audio extracted successfully from ..\\P72.mp4!\n",
      "MoviePy - Writing audio in Audios\\P73.wav\n"
     ]
    },
    {
     "name": "stderr",
     "output_type": "stream",
     "text": [
      "                                                                      \r"
     ]
    },
    {
     "name": "stdout",
     "output_type": "stream",
     "text": [
      "MoviePy - Done.\n",
      "Audio extracted successfully from ..\\P73.mp4!\n",
      "MoviePy - Writing audio in Audios\\P74.wav\n"
     ]
    },
    {
     "name": "stderr",
     "output_type": "stream",
     "text": [
      "                                                                      \r"
     ]
    },
    {
     "name": "stdout",
     "output_type": "stream",
     "text": [
      "MoviePy - Done.\n",
      "Audio extracted successfully from ..\\P74.mp4!\n",
      "MoviePy - Writing audio in Audios\\P76.wav\n"
     ]
    },
    {
     "name": "stderr",
     "output_type": "stream",
     "text": [
      "                                                                      \r"
     ]
    },
    {
     "name": "stdout",
     "output_type": "stream",
     "text": [
      "MoviePy - Done.\n",
      "Audio extracted successfully from ..\\P76.mp4!\n",
      "MoviePy - Writing audio in Audios\\P77.wav\n"
     ]
    },
    {
     "name": "stderr",
     "output_type": "stream",
     "text": [
      "                                                                      \r"
     ]
    },
    {
     "name": "stdout",
     "output_type": "stream",
     "text": [
      "MoviePy - Done.\n",
      "Audio extracted successfully from ..\\P77.mp4!\n",
      "MoviePy - Writing audio in Audios\\P78.wav\n"
     ]
    },
    {
     "name": "stderr",
     "output_type": "stream",
     "text": [
      "                                                                      \r"
     ]
    },
    {
     "name": "stdout",
     "output_type": "stream",
     "text": [
      "MoviePy - Done.\n",
      "Audio extracted successfully from ..\\P78.mp4!\n",
      "MoviePy - Writing audio in Audios\\P79.wav\n"
     ]
    },
    {
     "name": "stderr",
     "output_type": "stream",
     "text": [
      "                                                                      \r"
     ]
    },
    {
     "name": "stdout",
     "output_type": "stream",
     "text": [
      "MoviePy - Done.\n",
      "Audio extracted successfully from ..\\P79.mp4!\n",
      "MoviePy - Writing audio in Audios\\P80.wav\n"
     ]
    },
    {
     "name": "stderr",
     "output_type": "stream",
     "text": [
      "                                                                      \r"
     ]
    },
    {
     "name": "stdout",
     "output_type": "stream",
     "text": [
      "MoviePy - Done.\n",
      "Audio extracted successfully from ..\\P80.mp4!\n",
      "MoviePy - Writing audio in Audios\\P81.wav\n"
     ]
    },
    {
     "name": "stderr",
     "output_type": "stream",
     "text": [
      "                                                                      \r"
     ]
    },
    {
     "name": "stdout",
     "output_type": "stream",
     "text": [
      "MoviePy - Done.\n",
      "Audio extracted successfully from ..\\P81.mp4!\n",
      "MoviePy - Writing audio in Audios\\P83.wav\n"
     ]
    },
    {
     "name": "stderr",
     "output_type": "stream",
     "text": [
      "                                                                      \r"
     ]
    },
    {
     "name": "stdout",
     "output_type": "stream",
     "text": [
      "MoviePy - Done.\n",
      "Audio extracted successfully from ..\\P83.mp4!\n",
      "MoviePy - Writing audio in Audios\\P84.wav\n"
     ]
    },
    {
     "name": "stderr",
     "output_type": "stream",
     "text": [
      "                                                                      \r"
     ]
    },
    {
     "name": "stdout",
     "output_type": "stream",
     "text": [
      "MoviePy - Done.\n",
      "Audio extracted successfully from ..\\P84.mp4!\n",
      "MoviePy - Writing audio in Audios\\P85.wav\n"
     ]
    },
    {
     "name": "stderr",
     "output_type": "stream",
     "text": [
      "                                                                      \r"
     ]
    },
    {
     "name": "stdout",
     "output_type": "stream",
     "text": [
      "MoviePy - Done.\n",
      "Audio extracted successfully from ..\\P85.mp4!\n",
      "MoviePy - Writing audio in Audios\\P86.wav\n"
     ]
    },
    {
     "name": "stderr",
     "output_type": "stream",
     "text": [
      "                                                                      \r"
     ]
    },
    {
     "name": "stdout",
     "output_type": "stream",
     "text": [
      "MoviePy - Done.\n",
      "Audio extracted successfully from ..\\P86.mp4!\n",
      "MoviePy - Writing audio in Audios\\P89.wav\n"
     ]
    },
    {
     "name": "stderr",
     "output_type": "stream",
     "text": [
      "                                                                      \r"
     ]
    },
    {
     "name": "stdout",
     "output_type": "stream",
     "text": [
      "MoviePy - Done.\n",
      "Audio extracted successfully from ..\\P89.mp4!\n",
      "MoviePy - Writing audio in Audios\\PP1.wav\n"
     ]
    },
    {
     "name": "stderr",
     "output_type": "stream",
     "text": [
      "                                                                      \r"
     ]
    },
    {
     "name": "stdout",
     "output_type": "stream",
     "text": [
      "MoviePy - Done.\n",
      "Audio extracted successfully from ..\\PP1.mp4!\n",
      "MoviePy - Writing audio in Audios\\P1.wav\n"
     ]
    },
    {
     "name": "stderr",
     "output_type": "stream",
     "text": [
      "                                                                      \r"
     ]
    },
    {
     "name": "stdout",
     "output_type": "stream",
     "text": [
      "MoviePy - Done.\n",
      "Audio extracted successfully from ..\\P1.mp4!\n",
      "MoviePy - Writing audio in Audios\\P3.wav\n"
     ]
    },
    {
     "name": "stderr",
     "output_type": "stream",
     "text": [
      "                                                                      \r"
     ]
    },
    {
     "name": "stdout",
     "output_type": "stream",
     "text": [
      "MoviePy - Done.\n",
      "Audio extracted successfully from ..\\P3.mp4!\n",
      "MoviePy - Writing audio in Audios\\P4.wav\n"
     ]
    },
    {
     "name": "stderr",
     "output_type": "stream",
     "text": [
      "                                                                      \r"
     ]
    },
    {
     "name": "stdout",
     "output_type": "stream",
     "text": [
      "MoviePy - Done.\n",
      "Audio extracted successfully from ..\\P4.mp4!\n",
      "MoviePy - Writing audio in Audios\\P5.wav\n"
     ]
    },
    {
     "name": "stderr",
     "output_type": "stream",
     "text": [
      "                                                                      \r"
     ]
    },
    {
     "name": "stdout",
     "output_type": "stream",
     "text": [
      "MoviePy - Done.\n",
      "Audio extracted successfully from ..\\P5.mp4!\n",
      "MoviePy - Writing audio in Audios\\P6.wav\n"
     ]
    },
    {
     "name": "stderr",
     "output_type": "stream",
     "text": [
      "                                                                      \r"
     ]
    },
    {
     "name": "stdout",
     "output_type": "stream",
     "text": [
      "MoviePy - Done.\n",
      "Audio extracted successfully from ..\\P6.mp4!\n",
      "MoviePy - Writing audio in Audios\\P7.wav\n"
     ]
    },
    {
     "name": "stderr",
     "output_type": "stream",
     "text": [
      "                                                                      \r"
     ]
    },
    {
     "name": "stdout",
     "output_type": "stream",
     "text": [
      "MoviePy - Done.\n",
      "Audio extracted successfully from ..\\P7.mp4!\n",
      "MoviePy - Writing audio in Audios\\P8.wav\n"
     ]
    },
    {
     "name": "stderr",
     "output_type": "stream",
     "text": [
      "                                                                      \r"
     ]
    },
    {
     "name": "stdout",
     "output_type": "stream",
     "text": [
      "MoviePy - Done.\n",
      "Audio extracted successfully from ..\\P8.mp4!\n",
      "MoviePy - Writing audio in Audios\\P10.wav\n"
     ]
    },
    {
     "name": "stderr",
     "output_type": "stream",
     "text": [
      "                                                                      \r"
     ]
    },
    {
     "name": "stdout",
     "output_type": "stream",
     "text": [
      "MoviePy - Done.\n",
      "Audio extracted successfully from ..\\P10.mp4!\n",
      "MoviePy - Writing audio in Audios\\P11.wav\n"
     ]
    },
    {
     "name": "stderr",
     "output_type": "stream",
     "text": [
      "                                                                      \r"
     ]
    },
    {
     "name": "stdout",
     "output_type": "stream",
     "text": [
      "MoviePy - Done.\n",
      "Audio extracted successfully from ..\\P11.mp4!\n",
      "MoviePy - Writing audio in Audios\\P12.wav\n"
     ]
    },
    {
     "name": "stderr",
     "output_type": "stream",
     "text": [
      "                                                                      \r"
     ]
    },
    {
     "name": "stdout",
     "output_type": "stream",
     "text": [
      "MoviePy - Done.\n",
      "Audio extracted successfully from ..\\P12.mp4!\n",
      "MoviePy - Writing audio in Audios\\PP31.wav\n"
     ]
    },
    {
     "name": "stderr",
     "output_type": "stream",
     "text": [
      "                                                                      \r"
     ]
    },
    {
     "name": "stdout",
     "output_type": "stream",
     "text": [
      "MoviePy - Done.\n",
      "Audio extracted successfully from ..\\PP31.mp4!\n",
      "MoviePy - Writing audio in Audios\\PP32.wav\n"
     ]
    },
    {
     "name": "stderr",
     "output_type": "stream",
     "text": [
      "                                                                      \r"
     ]
    },
    {
     "name": "stdout",
     "output_type": "stream",
     "text": [
      "MoviePy - Done.\n",
      "Audio extracted successfully from ..\\PP32.mp4!\n",
      "MoviePy - Writing audio in Audios\\PP33.wav\n"
     ]
    },
    {
     "name": "stderr",
     "output_type": "stream",
     "text": [
      "                                                                      \r"
     ]
    },
    {
     "name": "stdout",
     "output_type": "stream",
     "text": [
      "MoviePy - Done.\n",
      "Audio extracted successfully from ..\\PP33.mp4!\n",
      "MoviePy - Writing audio in Audios\\PP35.wav\n"
     ]
    },
    {
     "name": "stderr",
     "output_type": "stream",
     "text": [
      "                                                                      \r"
     ]
    },
    {
     "name": "stdout",
     "output_type": "stream",
     "text": [
      "MoviePy - Done.\n",
      "Audio extracted successfully from ..\\PP35.mp4!\n",
      "MoviePy - Writing audio in Audios\\PP37.wav\n"
     ]
    },
    {
     "name": "stderr",
     "output_type": "stream",
     "text": [
      "                                                                      \r"
     ]
    },
    {
     "name": "stdout",
     "output_type": "stream",
     "text": [
      "MoviePy - Done.\n",
      "Audio extracted successfully from ..\\PP37.mp4!\n",
      "MoviePy - Writing audio in Audios\\PP42.wav\n"
     ]
    },
    {
     "name": "stderr",
     "output_type": "stream",
     "text": [
      "                                                                      \r"
     ]
    },
    {
     "name": "stdout",
     "output_type": "stream",
     "text": [
      "MoviePy - Done.\n",
      "Audio extracted successfully from ..\\PP42.mp4!\n",
      "MoviePy - Writing audio in Audios\\PP43.wav\n"
     ]
    },
    {
     "name": "stderr",
     "output_type": "stream",
     "text": [
      "                                                                      \r"
     ]
    },
    {
     "name": "stdout",
     "output_type": "stream",
     "text": [
      "MoviePy - Done.\n",
      "Audio extracted successfully from ..\\PP43.mp4!\n",
      "MoviePy - Writing audio in Audios\\PP44.wav\n"
     ]
    },
    {
     "name": "stderr",
     "output_type": "stream",
     "text": [
      "                                                                      \r"
     ]
    },
    {
     "name": "stdout",
     "output_type": "stream",
     "text": [
      "MoviePy - Done.\n",
      "Audio extracted successfully from ..\\PP44.mp4!\n",
      "MoviePy - Writing audio in Audios\\PP45.wav\n"
     ]
    },
    {
     "name": "stderr",
     "output_type": "stream",
     "text": [
      "                                                                      \r"
     ]
    },
    {
     "name": "stdout",
     "output_type": "stream",
     "text": [
      "MoviePy - Done.\n",
      "Audio extracted successfully from ..\\PP45.mp4!\n",
      "MoviePy - Writing audio in Audios\\PP47.wav\n"
     ]
    },
    {
     "name": "stderr",
     "output_type": "stream",
     "text": [
      "                                                                      \r"
     ]
    },
    {
     "name": "stdout",
     "output_type": "stream",
     "text": [
      "MoviePy - Done.\n",
      "Audio extracted successfully from ..\\PP47.mp4!\n",
      "MoviePy - Writing audio in Audios\\PP34.wav\n"
     ]
    },
    {
     "name": "stderr",
     "output_type": "stream",
     "text": [
      "                                                                      \r"
     ]
    },
    {
     "name": "stdout",
     "output_type": "stream",
     "text": [
      "MoviePy - Done.\n",
      "Audio extracted successfully from ..\\PP34.mp4!\n",
      "MoviePy - Writing audio in Audios\\PP3.wav\n"
     ]
    },
    {
     "name": "stderr",
     "output_type": "stream",
     "text": [
      "                                                                      \r"
     ]
    },
    {
     "name": "stdout",
     "output_type": "stream",
     "text": [
      "MoviePy - Done.\n",
      "Audio extracted successfully from ..\\PP3.mp4!\n",
      "MoviePy - Writing audio in Audios\\PP4.wav\n"
     ]
    },
    {
     "name": "stderr",
     "output_type": "stream",
     "text": [
      "                                                                      \r"
     ]
    },
    {
     "name": "stdout",
     "output_type": "stream",
     "text": [
      "MoviePy - Done.\n",
      "Audio extracted successfully from ..\\PP4.mp4!\n",
      "MoviePy - Writing audio in Audios\\PP48.wav\n"
     ]
    },
    {
     "name": "stderr",
     "output_type": "stream",
     "text": [
      "                                                                      \r"
     ]
    },
    {
     "name": "stdout",
     "output_type": "stream",
     "text": [
      "MoviePy - Done.\n",
      "Audio extracted successfully from ..\\PP48.mp4!\n",
      "MoviePy - Writing audio in Audios\\PP49.wav\n"
     ]
    },
    {
     "name": "stderr",
     "output_type": "stream",
     "text": [
      "                                                                      \r"
     ]
    },
    {
     "name": "stdout",
     "output_type": "stream",
     "text": [
      "MoviePy - Done.\n",
      "Audio extracted successfully from ..\\PP49.mp4!\n",
      "MoviePy - Writing audio in Audios\\PP50.wav\n"
     ]
    },
    {
     "name": "stderr",
     "output_type": "stream",
     "text": [
      "                                                                      \r"
     ]
    },
    {
     "name": "stdout",
     "output_type": "stream",
     "text": [
      "MoviePy - Done.\n",
      "Audio extracted successfully from ..\\PP50.mp4!\n",
      "MoviePy - Writing audio in Audios\\PP5.wav\n"
     ]
    },
    {
     "name": "stderr",
     "output_type": "stream",
     "text": [
      "                                                                      \r"
     ]
    },
    {
     "name": "stdout",
     "output_type": "stream",
     "text": [
      "MoviePy - Done.\n",
      "Audio extracted successfully from ..\\PP5.mp4!\n",
      "MoviePy - Writing audio in Audios\\PP6.wav\n"
     ]
    },
    {
     "name": "stderr",
     "output_type": "stream",
     "text": [
      "                                                                      \r"
     ]
    },
    {
     "name": "stdout",
     "output_type": "stream",
     "text": [
      "MoviePy - Done.\n",
      "Audio extracted successfully from ..\\PP6.mp4!\n",
      "MoviePy - Writing audio in Audios\\PP7.wav\n"
     ]
    },
    {
     "name": "stderr",
     "output_type": "stream",
     "text": [
      "                                                                      \r"
     ]
    },
    {
     "name": "stdout",
     "output_type": "stream",
     "text": [
      "MoviePy - Done.\n",
      "Audio extracted successfully from ..\\PP7.mp4!\n",
      "MoviePy - Writing audio in Audios\\PP8.wav\n"
     ]
    },
    {
     "name": "stderr",
     "output_type": "stream",
     "text": [
      "                                                                      \r"
     ]
    },
    {
     "name": "stdout",
     "output_type": "stream",
     "text": [
      "MoviePy - Done.\n",
      "Audio extracted successfully from ..\\PP8.mp4!\n",
      "MoviePy - Writing audio in Audios\\PP10.wav\n"
     ]
    },
    {
     "name": "stderr",
     "output_type": "stream",
     "text": [
      "                                                                      \r"
     ]
    },
    {
     "name": "stdout",
     "output_type": "stream",
     "text": [
      "MoviePy - Done.\n",
      "Audio extracted successfully from ..\\PP10.mp4!\n",
      "MoviePy - Writing audio in Audios\\PP11.wav\n"
     ]
    },
    {
     "name": "stderr",
     "output_type": "stream",
     "text": [
      "                                                                      \r"
     ]
    },
    {
     "name": "stdout",
     "output_type": "stream",
     "text": [
      "MoviePy - Done.\n",
      "Audio extracted successfully from ..\\PP11.mp4!\n",
      "MoviePy - Writing audio in Audios\\PP12.wav\n"
     ]
    },
    {
     "name": "stderr",
     "output_type": "stream",
     "text": [
      "                                                                      \r"
     ]
    },
    {
     "name": "stdout",
     "output_type": "stream",
     "text": [
      "MoviePy - Done.\n",
      "Audio extracted successfully from ..\\PP12.mp4!\n",
      "MoviePy - Writing audio in Audios\\PP13.wav\n"
     ]
    },
    {
     "name": "stderr",
     "output_type": "stream",
     "text": [
      "                                                                      \r"
     ]
    },
    {
     "name": "stdout",
     "output_type": "stream",
     "text": [
      "MoviePy - Done.\n",
      "Audio extracted successfully from ..\\PP13.mp4!\n",
      "MoviePy - Writing audio in Audios\\PP14.wav\n"
     ]
    },
    {
     "name": "stderr",
     "output_type": "stream",
     "text": [
      "                                                                      \r"
     ]
    },
    {
     "name": "stdout",
     "output_type": "stream",
     "text": [
      "MoviePy - Done.\n",
      "Audio extracted successfully from ..\\PP14.mp4!\n",
      "MoviePy - Writing audio in Audios\\PP15.wav\n"
     ]
    },
    {
     "name": "stderr",
     "output_type": "stream",
     "text": [
      "                                                                      \r"
     ]
    },
    {
     "name": "stdout",
     "output_type": "stream",
     "text": [
      "MoviePy - Done.\n",
      "Audio extracted successfully from ..\\PP15.mp4!\n",
      "MoviePy - Writing audio in Audios\\PP16.wav\n"
     ]
    },
    {
     "name": "stderr",
     "output_type": "stream",
     "text": [
      "                                                                      \r"
     ]
    },
    {
     "name": "stdout",
     "output_type": "stream",
     "text": [
      "MoviePy - Done.\n",
      "Audio extracted successfully from ..\\PP16.mp4!\n",
      "MoviePy - Writing audio in Audios\\PP17.wav\n"
     ]
    },
    {
     "name": "stderr",
     "output_type": "stream",
     "text": [
      "                                                                      \r"
     ]
    },
    {
     "name": "stdout",
     "output_type": "stream",
     "text": [
      "MoviePy - Done.\n",
      "Audio extracted successfully from ..\\PP17.mp4!\n",
      "MoviePy - Writing audio in Audios\\PP20.wav\n"
     ]
    },
    {
     "name": "stderr",
     "output_type": "stream",
     "text": [
      "                                                                      \r"
     ]
    },
    {
     "name": "stdout",
     "output_type": "stream",
     "text": [
      "MoviePy - Done.\n",
      "Audio extracted successfully from ..\\PP20.mp4!\n",
      "MoviePy - Writing audio in Audios\\PP21.wav\n"
     ]
    },
    {
     "name": "stderr",
     "output_type": "stream",
     "text": [
      "                                                                      \r"
     ]
    },
    {
     "name": "stdout",
     "output_type": "stream",
     "text": [
      "MoviePy - Done.\n",
      "Audio extracted successfully from ..\\PP21.mp4!\n",
      "MoviePy - Writing audio in Audios\\PP22.wav\n"
     ]
    },
    {
     "name": "stderr",
     "output_type": "stream",
     "text": [
      "                                                                      \r"
     ]
    },
    {
     "name": "stdout",
     "output_type": "stream",
     "text": [
      "MoviePy - Done.\n",
      "Audio extracted successfully from ..\\PP22.mp4!\n",
      "MoviePy - Writing audio in Audios\\PP24.wav\n"
     ]
    },
    {
     "name": "stderr",
     "output_type": "stream",
     "text": [
      "                                                                      \r"
     ]
    },
    {
     "name": "stdout",
     "output_type": "stream",
     "text": [
      "MoviePy - Done.\n",
      "Audio extracted successfully from ..\\PP24.mp4!\n",
      "MoviePy - Writing audio in Audios\\PP25.wav\n"
     ]
    },
    {
     "name": "stderr",
     "output_type": "stream",
     "text": [
      "                                                                      \r"
     ]
    },
    {
     "name": "stdout",
     "output_type": "stream",
     "text": [
      "MoviePy - Done.\n",
      "Audio extracted successfully from ..\\PP25.mp4!\n",
      "MoviePy - Writing audio in Audios\\PP27.wav\n"
     ]
    },
    {
     "name": "stderr",
     "output_type": "stream",
     "text": [
      "                                                                      \r"
     ]
    },
    {
     "name": "stdout",
     "output_type": "stream",
     "text": [
      "MoviePy - Done.\n",
      "Audio extracted successfully from ..\\PP27.mp4!\n",
      "MoviePy - Writing audio in Audios\\PP29.wav\n"
     ]
    },
    {
     "name": "stderr",
     "output_type": "stream",
     "text": [
      "                                                                      \r"
     ]
    },
    {
     "name": "stdout",
     "output_type": "stream",
     "text": [
      "MoviePy - Done.\n",
      "Audio extracted successfully from ..\\PP29.mp4!\n",
      "MoviePy - Writing audio in Audios\\PP30.wav\n"
     ]
    },
    {
     "name": "stderr",
     "output_type": "stream",
     "text": [
      "                                                                      \r"
     ]
    },
    {
     "name": "stdout",
     "output_type": "stream",
     "text": [
      "MoviePy - Done.\n",
      "Audio extracted successfully from ..\\PP30.mp4!\n",
      "MoviePy - Writing audio in Audios\\PP59.wav\n"
     ]
    },
    {
     "name": "stderr",
     "output_type": "stream",
     "text": [
      "                                                                      \r"
     ]
    },
    {
     "name": "stdout",
     "output_type": "stream",
     "text": [
      "MoviePy - Done.\n",
      "Audio extracted successfully from ..\\PP59.mp4!\n",
      "MoviePy - Writing audio in Audios\\PP60.wav\n"
     ]
    },
    {
     "name": "stderr",
     "output_type": "stream",
     "text": [
      "                                                                      \r"
     ]
    },
    {
     "name": "stdout",
     "output_type": "stream",
     "text": [
      "MoviePy - Done.\n",
      "Audio extracted successfully from ..\\PP60.mp4!\n",
      "MoviePy - Writing audio in Audios\\PP61.wav\n"
     ]
    },
    {
     "name": "stderr",
     "output_type": "stream",
     "text": [
      "                                                                      \r"
     ]
    },
    {
     "name": "stdout",
     "output_type": "stream",
     "text": [
      "MoviePy - Done.\n",
      "Audio extracted successfully from ..\\PP61.mp4!\n",
      "MoviePy - Writing audio in Audios\\PP62.wav\n"
     ]
    },
    {
     "name": "stderr",
     "output_type": "stream",
     "text": [
      "                                                                      \r"
     ]
    },
    {
     "name": "stdout",
     "output_type": "stream",
     "text": [
      "MoviePy - Done.\n",
      "Audio extracted successfully from ..\\PP62.mp4!\n",
      "MoviePy - Writing audio in Audios\\PP63.wav\n"
     ]
    },
    {
     "name": "stderr",
     "output_type": "stream",
     "text": [
      "                                                                      \r"
     ]
    },
    {
     "name": "stdout",
     "output_type": "stream",
     "text": [
      "MoviePy - Done.\n",
      "Audio extracted successfully from ..\\PP63.mp4!\n",
      "MoviePy - Writing audio in Audios\\PP64.wav\n"
     ]
    },
    {
     "name": "stderr",
     "output_type": "stream",
     "text": [
      "                                                                      \r"
     ]
    },
    {
     "name": "stdout",
     "output_type": "stream",
     "text": [
      "MoviePy - Done.\n",
      "Audio extracted successfully from ..\\PP64.mp4!\n",
      "MoviePy - Writing audio in Audios\\PP52.wav\n"
     ]
    },
    {
     "name": "stderr",
     "output_type": "stream",
     "text": [
      "                                                                      \r"
     ]
    },
    {
     "name": "stdout",
     "output_type": "stream",
     "text": [
      "MoviePy - Done.\n",
      "Audio extracted successfully from ..\\PP52.mp4!\n",
      "MoviePy - Writing audio in Audios\\PP53.wav\n"
     ]
    },
    {
     "name": "stderr",
     "output_type": "stream",
     "text": [
      "                                                                      \r"
     ]
    },
    {
     "name": "stdout",
     "output_type": "stream",
     "text": [
      "MoviePy - Done.\n",
      "Audio extracted successfully from ..\\PP53.mp4!\n",
      "MoviePy - Writing audio in Audios\\PP55.wav\n"
     ]
    },
    {
     "name": "stderr",
     "output_type": "stream",
     "text": [
      "                                                                      \r"
     ]
    },
    {
     "name": "stdout",
     "output_type": "stream",
     "text": [
      "MoviePy - Done.\n",
      "Audio extracted successfully from ..\\PP55.mp4!\n",
      "MoviePy - Writing audio in Audios\\PP56.wav\n"
     ]
    },
    {
     "name": "stderr",
     "output_type": "stream",
     "text": [
      "                                                                      \r"
     ]
    },
    {
     "name": "stdout",
     "output_type": "stream",
     "text": [
      "MoviePy - Done.\n",
      "Audio extracted successfully from ..\\PP56.mp4!\n",
      "MoviePy - Writing audio in Audios\\PP57.wav\n"
     ]
    },
    {
     "name": "stderr",
     "output_type": "stream",
     "text": [
      "                                                                      \r"
     ]
    },
    {
     "name": "stdout",
     "output_type": "stream",
     "text": [
      "MoviePy - Done.\n",
      "Audio extracted successfully from ..\\PP57.mp4!\n",
      "MoviePy - Writing audio in Audios\\PP58.wav\n"
     ]
    },
    {
     "name": "stderr",
     "output_type": "stream",
     "text": [
      "                                                                      \r"
     ]
    },
    {
     "name": "stdout",
     "output_type": "stream",
     "text": [
      "MoviePy - Done.\n",
      "Audio extracted successfully from ..\\PP58.mp4!\n"
     ]
    }
   ],
   "source": [
    "import os\n",
    "from moviepy.editor import VideoFileClip\n",
    "\n",
    "def extract_audio(video_path, audio_output_path):\n",
    "    try:\n",
    "        video_clip = VideoFileClip(video_path)\n",
    "        audio_clip = video_clip.audio\n",
    "        audio_clip.write_audiofile(audio_output_path)\n",
    "        print(f\"Audio extracted successfully from {video_path}!\")\n",
    "    except Exception as e:\n",
    "        print(f\"Error extracting audio from {video_path}: {e}\")\n",
    "\n",
    "def extract_audio_from_all_videos(video_folder, output_folder):\n",
    "    if not os.path.exists(output_folder):\n",
    "        os.makedirs(output_folder)\n",
    "\n",
    "    for file in os.listdir(video_folder):\n",
    "        if file.endswith(\".mp4\"):\n",
    "            video_file_path = os.path.join(video_folder, file)\n",
    "            audio_output_path = os.path.join(output_folder, os.path.splitext(file)[0] + \".wav\")\n",
    "            extract_audio(video_file_path, audio_output_path)\n",
    "\n",
    "# Example usage:\n",
    "video_folder = r\"..\"  # Provide the path to the folder containing video files\n",
    "output_folder = \"Audios\"  # Specify the folder where you want to save the extracted audio files\n",
    "extract_audio_from_all_videos(video_folder, output_folder)\n"
   ]
  },
  {
   "cell_type": "markdown",
   "metadata": {},
   "source": [
    "Audio Features Analysis"
   ]
  },
  {
   "cell_type": "code",
   "execution_count": 2,
   "metadata": {},
   "outputs": [],
   "source": [
    "from pathlib import Path\n",
    "import time\n",
    "import parselmouth as pm\n",
    "import numpy as np\n",
    "import pandas as pd\n",
    "import matplotlib.pyplot as plt\n",
    "import os\n",
    "\n",
    "audio_Column = ['Video Name', 'Length', 'Average Band Energy', 'Avg Intensity', 'Max Intensity', 'Mean Intensity', 'Range Intensity', 'SD Intensity', \n",
    "\t\t   'Avg Pitch', 'Max Pitch', 'Mean Pitch', 'Range Pitch', 'SD Pitch',\n",
    "\t\t   'Mean F1', 'Mean F2', 'Mean F3', 'Mean B1', 'Mean B2', 'Mean B3', 'SD F1', 'SD F2', 'SD F3', \n",
    "\t\t   'Mean F2/F1', 'Mean F3/F1', 'SD F2/F1', 'SD F3/F1']\n",
    "audio_row = []\n",
    "\n",
    "def amplitude(sound):\n",
    "\tx_sample = sound.xs()\n",
    "\tamplitude = sound.values[:,0]\n",
    "\n",
    "\t# print('Time: ',x_sample)\n",
    "\t# print('Amplitude: ',amplitude)\n",
    "\t\n",
    "\t# plt.figure()\n",
    "\t# plt.plot(x_sample, amplitude)\n",
    "\t# plt.xlim([sound.xmin, sound.xmax])\n",
    "\t# plt.xlabel(\"Time [s]\")\n",
    "\t# plt.ylabel(\"Amplitude\")\n",
    "\n",
    "def intensity(sound):\n",
    "\tintensity = sound.to_intensity()\n",
    "\t\n",
    "\tx_sample = intensity.xs()\n",
    "\ty_intensity = intensity.values\n",
    "\t# print('Time: ',x_sample)\n",
    "\t# print('Intensity: ',y_intensity)\n",
    "\n",
    "\tavg_intensity = intensity.get_average(intensity.end_time,intensity.start_time,'ENERGY')\n",
    "\tmax_intensity = np.max(y_intensity)\n",
    "\tmin_intensity = np.min(y_intensity)\n",
    "\trange_intensity = max_intensity - min_intensity\n",
    "\tsd_intensity = np.std(y_intensity)\n",
    "\t# print(sd_intensity)\n",
    "\t\n",
    "\t# plt.figure()\n",
    "\t# plt.plot(x_sample, y_intensity, linewidth=3, color='w')\n",
    "\t# plt.plot(x_sample, y_intensity, linewidth=1)\n",
    "\t# plt.grid(False)\n",
    "\t# plt.xlim(intensity.start_time,intensity.end_time)\n",
    "\t# plt.xlabel(\"Time [s]\")\n",
    "\t# plt.ylabel(\"intensity [dB]\")\n",
    "\taudio_row.extend([avg_intensity, max_intensity, min_intensity, range_intensity, sd_intensity])\n",
    "\n",
    "def pitch(sound):\n",
    "\tpitch = sound.to_pitch()\n",
    "\t\n",
    "\tx_sample = pitch.xs()\n",
    "\ty_pitch = pitch.to_matrix().values\n",
    "\t# print('Time: ',x_sample)\n",
    "\t# print('Pitch: ',y_pitch)\n",
    "\t\n",
    "\ty_pitch[y_pitch == 0] = np.nan\n",
    "\n",
    "\tavg_pitch =\tnp.nanmean(y_pitch)\n",
    "\tmax_pitch =\tnp.nanmax(y_pitch)\n",
    "\tmin_pitch =\tnp.nanmin(y_pitch)\n",
    "\trange_pitch\t= max_pitch - min_pitch\n",
    "\tsd_pitch = np.nanstd(y_pitch)\n",
    "\t# print(sd_pitch)\n",
    "\n",
    "\t# plt.figure()\n",
    "\t# plt.plot(x_sample, y_pitch, linewidth=3, color='w')\n",
    "\t# plt.plot(x_sample, y_pitc, linewidth=1)\n",
    "\t# plt.grid(False)\n",
    "\t# plt.xlim(intensity.start_time,intensity.end_time)\n",
    "\t# plt.xlabel(\"Time [s]\")\n",
    "\t# plt.ylabel(\"Frequency [dB]\")\n",
    "\taudio_row.extend([avg_pitch, max_pitch, min_pitch, range_pitch, sd_pitch])\n",
    "\n",
    "\n",
    "def formant(sound):\n",
    "\tformant = sound.to_formant_burg(max_number_of_formants = 5)\n",
    "\tf1 = []\n",
    "\tb1 = []\n",
    "\tf2 = []\n",
    "\tb2 = []\n",
    "\tf3 = []\n",
    "\tb3 = []\n",
    "\n",
    "\tx_sample = formant.xs()\n",
    "\t# print(x_sample)\n",
    "\t\n",
    "\t# start_time_formant = formant.get_start_time()\n",
    "\t# end_time_formant = formant.get_end_time()\n",
    "\t# time_step_formant = formant.get_time_step()\n",
    "\t# print(len(np.linspace(0.027,end_time_formant,len(formant.xs()))))\n",
    "\t# print(len(np.arange(0.027,end_time_formant,time_step_formant)))\n",
    "\t# print(start_time_formant,end_time_formant,time_step_formant)\n",
    "\t# print('Time: ',x_sample)\n",
    "\t# print(formant.get_value_at_time(1,0.039513))\n",
    "\t# print(formant.get_value_at_time(1,0.03325792))\n",
    "\t# print('Pitch: ',y_formant)\n",
    "\n",
    "\tfor x in x_sample:\n",
    "\t\tf1.append(formant.get_value_at_time(1,x))\n",
    "\t\tf2.append(formant.get_value_at_time(2,x))\n",
    "\t\tf3.append(formant.get_value_at_time(3,x))\n",
    "\t\tb1.append(formant.get_bandwidth_at_time(1,x))\n",
    "\t\tb2.append(formant.get_bandwidth_at_time(2,x))\n",
    "\t\tb3.append(formant.get_bandwidth_at_time(3,x))\n",
    "\n",
    "\tmean_f1 = np.mean(f1)\n",
    "\tmean_f2 = np.mean(f2)\n",
    "\tmean_f3 = np.mean(f3)\n",
    "\n",
    "\tmean_b1 = np.mean(b1)\n",
    "\tmean_b2 = np.mean(b2)\n",
    "\tmean_b3 = np.mean(b3)\n",
    "\n",
    "\tsd_f1 = np.std(f1)\n",
    "\tsd_f2 = np.std(f2)\n",
    "\tsd_f3 = np.std(f3)\n",
    "\n",
    "\tmean_f2_by_f1 = np.mean(np.array(f2)/np.array(f1))\n",
    "\tmean_f3_by_f1 = np.mean(np.array(f3)/np.array(f1))\n",
    "\t\n",
    "\tsd_f2_by_f1 = np.std(np.array(f2)/np.array(f1))\n",
    "\tsd_f3_by_f1 = np.std(np.array(f3)/np.array(f1))\n",
    "\n",
    "\taudio_row.extend([mean_f1, mean_f2, mean_f3, mean_b1, mean_b2, mean_b3, sd_f1, sd_f2, sd_f3, \n",
    "\t\t\t\tmean_f2_by_f1, mean_f3_by_f1, sd_f2_by_f1, sd_f3_by_f1])\n",
    "\n",
    "\n",
    "def spectrum(sound):\n",
    "\tspectrum = sound.to_spectrum()\n",
    "\tband_energy_spectrum = spectrum.get_band_energy()\n",
    "\t# print(band_energy_spectrum)\n",
    "\t# spectrogram = spectrum.to_spectrogram()\n",
    "\t# drawSpectrogram(sound)\n",
    "\taudio_row.append(band_energy_spectrum)\n",
    "\n",
    "def drawSpectrogram(sound, dynamic_range=70):\n",
    "\n",
    "\tspectrogram = sound.to_spectrogram(window_length=0.05)\n",
    "\tX, Y = spectrogram.x_grid(), spectrogram.y_grid()\n",
    "\tsg_db = 10 * np.log10(spectrogram.values.T)\n",
    "\tplt.pcolormesh(X, Y, sg_db, vmin=sg_db.max() - dynamic_range, cmap='afmhot')\n",
    "\tplt.ylim([spectrogram.ymin, spectrogram.ymax])\n",
    "\tplt.xlabel(\"time [s]\")\n",
    "\tplt.ylabel(\"frequency [Hz]\")\n",
    "\t\n",
    "\tplt.xlim([sound.xmin, sound.xmax])\n",
    "\n",
    "\n",
    "\n",
    "\n",
    "def audio_analysis():\n",
    "    \n",
    "    \n",
    "    ## write our code for video taking\n",
    "    print(\"starting Audio analysis\")\n",
    "    global audio_row\n",
    "    data = []\n",
    "    current_directory = os.getcwd()\n",
    "    audios_directory = os.path.join(current_directory, \"Audios\")  # Construct the path as a string\n",
    "    print(audios_directory)\n",
    "    for file in os.listdir(audios_directory):\n",
    "        filename = os.path.join(audios_directory, file)\n",
    "        \n",
    "        if filename.endswith(\".wav\") or filename.endswith(\".mp3\"): \n",
    "            sound = pm.Sound(filename)\n",
    "            print(filename)\n",
    "            audio_row.append(filename)\n",
    "            end_time = sound.get_total_duration()\n",
    "            audio_row.append(end_time)\n",
    "            amplitude(sound)\n",
    "            spectrum(sound)\n",
    "            intensity(sound)\n",
    "            pitch(sound)\n",
    "            formant(sound)\n",
    "            data.append(audio_row)\n",
    "            print(audio_row)\n",
    "            audio_row = []\n",
    "            # index +=1\n",
    "            \n",
    "        \n",
    "        df = pd.DataFrame(data = data, columns = audio_Column)\n",
    "        df.to_csv('audioCues.csv')\n",
    "        # plt.show()\n",
    "        \n",
    "    else:\n",
    "        print(\"Some Process in running file\")"
   ]
  },
  {
   "cell_type": "code",
   "execution_count": 3,
   "metadata": {},
   "outputs": [
    {
     "name": "stdout",
     "output_type": "stream",
     "text": [
      "starting Audio analysis\n",
      "e:\\Videos\\EditedVideos\\VHA-Interview\\Audios\n",
      "e:\\Videos\\EditedVideos\\VHA-Interview\\Audios\\P62.wav\n",
      "['e:\\\\Videos\\\\EditedVideos\\\\VHA-Interview\\\\Audios\\\\P62.wav', 240.0, 0.02900664069836905, 54.84203464821011, 72.24965797175498, 22.759523686746785, 49.490134285008196, 7.22355522867981, 201.37142722091198, 587.0151300082666, 75.16367312236585, 511.8514568859008, 44.51981749753852, 718.8298118835983, 1852.4443925496682, 2890.373256872134, 428.82892918889127, 628.1845727285454, 599.3385720276596, 348.7194288520014, 451.34618068757015, 418.314294324356, 3.0751574049046035, 4.828483463667863, 1.6478159719836283, 2.4784960949444867]\n",
      "e:\\Videos\\EditedVideos\\VHA-Interview\\Audios\\P65.wav\n",
      "['e:\\\\Videos\\\\EditedVideos\\\\VHA-Interview\\\\Audios\\\\P65.wav', 298.5, 0.044216740582656636, 55.72454820145097, 69.92285904073022, 27.196866033738306, 42.725993006991914, 7.891035970509522, 123.76954877760389, 598.2202227581861, 74.96126234087625, 523.2589604173098, 55.23960343386371, 612.9318305771435, 1732.2593266504505, 2766.7695166855456, 431.05392667157366, 615.2534892155559, 698.5676802771721, 333.7421030074587, 419.13889481385974, 436.13792869780104, 3.3912288648795714, 5.42900358042271, 1.6290947748374127, 2.384618368963921]\n",
      "e:\\Videos\\EditedVideos\\VHA-Interview\\Audios\\P64.wav\n",
      "['e:\\\\Videos\\\\EditedVideos\\\\VHA-Interview\\\\Audios\\\\P64.wav', 285.8, 0.029587755953764987, 54.16992355784954, 70.59109263362897, -300.0, 370.591092633629, 13.448148299264732, 118.443440014472, 598.8482298324294, 75.02124207276812, 523.8269877596613, 70.0076304288027, 730.2730694504503, 1877.978347353678, 2893.5155495775252, 602.5653718915022, 612.784916610309, 699.586006338575, 420.18391672626126, 448.71093041698975, 528.3795336379277, 3.287497824772468, 5.0980016947248705, 1.8909867899292, 2.9270104495920846]\n",
      "e:\\Videos\\EditedVideos\\VHA-Interview\\Audios\\P63.wav\n",
      "['e:\\\\Videos\\\\EditedVideos\\\\VHA-Interview\\\\Audios\\\\P63.wav', 278.52997732426303, 0.008428870744538393, 48.83203632863392, 64.57817206814136, 31.89362548221409, 32.684546585927265, 5.395295316784023, 130.39140838092655, 597.712617595605, 74.97801700759291, 522.7346005880121, 115.8888889905572, 721.951356881005, 1846.9013913478852, nan, 580.0397766156003, 567.0755284519188, nan, 391.8674838509295, 425.8443563124456, nan, 3.144205317140231, nan, 1.6729024612250905, nan]\n",
      "e:\\Videos\\EditedVideos\\VHA-Interview\\Audios\\P66.wav\n",
      "['e:\\\\Videos\\\\EditedVideos\\\\VHA-Interview\\\\Audios\\\\P66.wav', 261.3, 0.036603313553738415, 55.48428752191586, 72.13289850363653, 29.365786620993255, 42.76711188264327, 6.6066191274220705, 140.41202594004875, 598.8023924702849, 75.0111313973899, 523.7912610728949, 100.19903969819443, 643.0427262214232, 1805.2389608450494, 2948.026868593703, 409.26142121600225, 656.8832612281523, 812.5473083371456, 356.86719413546314, 439.28641227811465, 465.9065001786754, 3.413636567451757, 5.579790443574552, 1.734121001172481, 2.6080440976504167]\n",
      "e:\\Videos\\EditedVideos\\VHA-Interview\\Audios\\P67.wav\n",
      "['e:\\\\Videos\\\\EditedVideos\\\\VHA-Interview\\\\Audios\\\\P67.wav', 292.1, 0.06653052571336583, 57.5938801492688, 83.23054698000833, 25.969562846218462, 57.26098413378986, 7.99121018592535, 139.83061830315512, 599.9290878552544, 75.39297028535002, 524.5361175699044, 59.870503089375546, 624.8063002874982, 1758.7806608124497, 2805.700475385369, 374.9062954208373, 561.4732118044168, 564.6250162017038, 319.3633615851196, 414.74691412459873, 399.39159652800373, 3.2983635463749468, 5.273305302297742, 1.5555866600608226, 2.2488340565546268]\n",
      "e:\\Videos\\EditedVideos\\VHA-Interview\\Audios\\P69.wav\n",
      "['e:\\\\Videos\\\\EditedVideos\\\\VHA-Interview\\\\Audios\\\\P69.wav', 267.97, 0.014750846856923964, 51.42791519076192, 67.73944845079183, 29.375086132690225, 38.3643623181016, 6.713054875832663, 167.1240034632752, 597.663179673657, 74.97414174469141, 522.6890379289656, 147.62948910159142, 705.7170231942307, 1830.9686226604026, 2812.3428760158113, 536.7873318934523, 587.5724244290408, 667.4340902476273, 371.426934858204, 385.9664781176035, 492.35704108883783, 3.1382482682762713, 4.834247866224049, 1.577768568211007, 2.4163262949263196]\n",
      "e:\\Videos\\EditedVideos\\VHA-Interview\\Audios\\P70.wav\n",
      "['e:\\\\Videos\\\\EditedVideos\\\\VHA-Interview\\\\Audios\\\\P70.wav', 129.66997732426304, 0.010690031721708076, 53.183336127085106, 66.74263651169596, 29.291493504093893, 37.45114300760207, 6.906950298378497, 238.0451773899913, 527.4554190818012, 75.61533387695665, 451.84008520484457, 40.75253164968769, 683.348244359526, 1923.2224470455042, 2904.0069176506986, 475.73535295485544, 636.766350446645, 610.721001309723, 343.3947079165714, 376.85780187614597, 375.26957338077324, 3.478143510769187, 5.283636928049506, 1.9123899223703595, 2.9935174476649973]\n",
      "e:\\Videos\\EditedVideos\\VHA-Interview\\Audios\\P71.wav\n",
      "['e:\\\\Videos\\\\EditedVideos\\\\VHA-Interview\\\\Audios\\\\P71.wav', 187.03, 0.009692905481943131, 51.16772083949922, 72.02056495494442, 27.56614974222761, 44.45441521271681, 6.240024846659998, 198.07493428086667, 554.433074687205, 75.14050608423834, 479.2925686029667, 44.043617929198774, 715.6156205449994, 1866.9604426230696, 2993.974390318706, 541.3183631798721, 657.4716733264077, 720.6969995863332, 316.2055753904921, 359.19733232595536, 364.72039022608794, 3.0899889210068667, 4.995532035582033, 1.5940015012523294, 2.59021674194501]\n",
      "e:\\Videos\\EditedVideos\\VHA-Interview\\Audios\\P72.wav\n",
      "['e:\\\\Videos\\\\EditedVideos\\\\VHA-Interview\\\\Audios\\\\P72.wav', 128.37, 0.014485869807242466, 54.54670139268121, 71.64022024567342, 27.398576896433845, 44.241643349239574, 7.367038334454307, 214.39342377421312, 517.4217571968697, 95.45815035642995, 421.9636068404398, 29.86165632368425, 629.5744718080797, 1818.0424758256179, 2899.160999186499, 469.4746823854997, 580.7254103073276, 669.2301248549022, 327.58901861977967, 356.22511161108366, 372.6957159480614, 3.522400171670943, 5.643097926963887, 1.7536228489286656, 2.7934101093293453]\n",
      "e:\\Videos\\EditedVideos\\VHA-Interview\\Audios\\P73.wav\n",
      "['e:\\\\Videos\\\\EditedVideos\\\\VHA-Interview\\\\Audios\\\\P73.wav', 187.3, 0.013081306658775802, 52.461856034625576, 68.13679889290798, 33.58501545819958, 34.5517834347084, 6.438496509649655, 181.35224790499046, 575.7062163059177, 75.18109161350424, 500.52512469241344, 56.893947853264734, 643.1058194688707, 1831.2201965118554, 2763.181354616092, 391.66761682077293, 575.0706077263621, 514.5505509308227, 277.0247623542281, 366.2613796189886, 353.1580452421564, 3.260365121529635, 4.913329273104268, 1.473427021967675, 2.122484002948294]\n",
      "e:\\Videos\\EditedVideos\\VHA-Interview\\Audios\\P74.wav\n",
      "['e:\\\\Videos\\\\EditedVideos\\\\VHA-Interview\\\\Audios\\\\P74.wav', 150.6, 0.0086664618278667, 51.62125809145394, 64.68870743641777, 29.235504661777956, 35.45320277463982, 6.798388330026288, 205.42892726675862, 599.8378727547396, 75.31804883193692, 524.5198239228026, 103.82654372640621, 676.7888835495871, 1847.7913061759746, 2893.999746019839, 463.31016272906186, 593.4305538844069, 577.3690772702694, 332.0600514522272, 365.439360578465, 375.5877726178821, 3.251844935469597, 5.121700476929409, 1.5995788917676081, 2.5293660245842142]\n",
      "e:\\Videos\\EditedVideos\\VHA-Interview\\Audios\\P76.wav\n",
      "['e:\\\\Videos\\\\EditedVideos\\\\VHA-Interview\\\\Audios\\\\P76.wav', 189.77, 0.0136808898892151, 52.60835161149018, 68.45338595465363, 30.701418687553645, 37.751967267099985, 6.477196197623376, 162.10974882896818, 535.49489322554, 74.98843336341025, 460.5064598621297, 45.94058276561802, 637.5344774626475, 1870.1568069388104, 3004.5109539364375, 455.6214549691919, 601.9560065255492, 713.4194850960104, 326.8250943044478, 346.0071290474713, 368.27648647635147, 3.4924162031600066, 5.64958838683625, 1.577943257163901, 2.4826629394820383]\n",
      "e:\\Videos\\EditedVideos\\VHA-Interview\\Audios\\P77.wav\n",
      "['e:\\\\Videos\\\\EditedVideos\\\\VHA-Interview\\\\Audios\\\\P77.wav', 211.53, 0.05193256303146462, 57.920275510817675, 74.58756809805769, 29.848230982262997, 44.73933711579469, 8.700345490457543, 228.45862681479204, 598.8951170799203, 75.0771455280816, 523.8179715518387, 63.631235700509734, 688.1444936646019, 1838.6795575248968, 2931.9252548156487, 376.4227328998561, 576.3125526999163, 597.0125763648978, 270.95092387281795, 387.3480081127573, 334.0286714485692, 3.012543239023658, 4.818435510462937, 1.3263359179630132, 1.9743456263962673]\n",
      "e:\\Videos\\EditedVideos\\VHA-Interview\\Audios\\P78.wav\n",
      "['e:\\\\Videos\\\\EditedVideos\\\\VHA-Interview\\\\Audios\\\\P78.wav', 142.87, 0.010776267313840425, 52.79715843535671, 68.13992047753884, 30.205571869236824, 37.93434860830202, 7.92093433715431, 186.61000494380198, 525.6337234940661, 76.57869223464887, 449.0550312594172, 38.62378154280109, 690.2854926735268, 1852.345975612084, 2853.2863449309184, 525.6639090113515, 676.1338349902675, 706.6487325337309, 339.91869618385977, 376.92839857543265, 410.84468847296824, 3.194718588801593, 4.979016881884348, 1.547926327859774, 2.512835765083434]\n",
      "e:\\Videos\\EditedVideos\\VHA-Interview\\Audios\\P79.wav\n",
      "['e:\\\\Videos\\\\EditedVideos\\\\VHA-Interview\\\\Audios\\\\P79.wav', 292.27, 0.052578769021517154, 56.57008316088798, 76.62323589810312, 33.31644182706785, 43.30679407103527, 7.79513330337439, 221.96239618999968, 588.7535657928037, 77.00335958403987, 511.7502062087638, 35.49935027076036, 643.0033640958484, 1875.1673989349913, 2949.8887593975082, 421.46336314733026, 657.4070110892104, 653.0542577014497, 322.3623237660112, 402.8164938956165, 352.7966953361803, 3.4985466724952916, 5.5177808151000916, 1.7467220499431475, 2.594261336323734]\n",
      "e:\\Videos\\EditedVideos\\VHA-Interview\\Audios\\P80.wav\n",
      "['e:\\\\Videos\\\\EditedVideos\\\\VHA-Interview\\\\Audios\\\\P80.wav', 227.73, 0.05248686850743438, 57.645711704663384, 73.84806920627769, 32.00097158805895, 41.84709761821873, 8.371929987520128, 237.52325332364575, 599.7817771603795, 75.52608593820116, 524.2556912221784, 51.94402411242803, 667.9328578383883, 1804.7453278568426, 2722.6337754159717, 410.0764688007324, 570.7807538233694, 607.8414245381232, 318.03661994422714, 380.50017884341105, 428.95630738792283, 3.2485077100258244, 4.876001780074778, 1.7631826517742877, 2.4966372649459756]\n",
      "e:\\Videos\\EditedVideos\\VHA-Interview\\Audios\\P81.wav\n",
      "['e:\\\\Videos\\\\EditedVideos\\\\VHA-Interview\\\\Audios\\\\P81.wav', 198.97, 0.021849934168399317, 54.426409312891565, 69.62824591596598, 27.75910362454134, 41.86914229142464, 7.121874776802549, 231.0901535421071, 585.9989820214147, 74.9623530068263, 511.03662901458836, 53.923773604688535, 649.5718347970436, 1763.6057236102051, 2791.7867895273434, 367.52395970639054, 684.3859652046931, 578.372809062774, 252.09916193482997, 403.9036456412131, 327.98238586765046, 3.044244828102231, 4.825433072044132, 1.3596079527758895, 1.9689126831580193]\n",
      "e:\\Videos\\EditedVideos\\VHA-Interview\\Audios\\P83.wav\n",
      "['e:\\\\Videos\\\\EditedVideos\\\\VHA-Interview\\\\Audios\\\\P83.wav', 132.19997732426305, 0.020579526946153483, 55.94318216164574, 76.00049657086646, 29.98135771413481, 46.01913885673165, 7.556915795423395, 231.8010690199496, 582.1623329536772, 75.3770509479724, 506.78528200570474, 49.57943260422202, 663.9382982900793, 1856.2079454256095, 2871.078380060142, 409.75093392853165, 576.0589715902125, 605.9971604695652, 307.83512618325204, 376.0236476871251, 370.3579198655437, 3.3097698705613507, 5.130281703723261, 1.6242076261756597, 2.423273934408413]\n",
      "e:\\Videos\\EditedVideos\\VHA-Interview\\Audios\\P84.wav\n",
      "['e:\\\\Videos\\\\EditedVideos\\\\VHA-Interview\\\\Audios\\\\P84.wav', 299.13, 0.058353121830331436, 56.92142683575595, 78.34316959803785, 32.46432787456627, 45.878841723471574, 7.681421116798621, 210.59452680737812, 589.7116290933526, 75.11068651835512, 514.6009425749975, 45.288868844093976, 588.9609039189431, 1813.7601363790159, 2891.3627239227003, 345.87606955496705, 539.3862485406511, 567.638636726114, 263.9746616531216, 325.4621324700947, 311.89102538111047, 3.551106977367336, 5.659461109416638, 1.5394491904393928, 2.315069828843604]\n",
      "e:\\Videos\\EditedVideos\\VHA-Interview\\Audios\\P85.wav\n",
      "['e:\\\\Videos\\\\EditedVideos\\\\VHA-Interview\\\\Audios\\\\P85.wav', 289.3, 0.045669306969597805, 56.00205265171531, 69.63069559700189, 34.32804810270088, 35.302647494301006, 6.7631915231182615, 138.46821863320017, 599.2945027957081, 74.9969676387484, 524.2975351569597, 101.08830259569604, 583.3233866391279, 1691.4810593664695, 2740.6051640254814, 346.45015489558335, 473.30374918976855, 525.2800084223529, 274.3294479052162, 398.3421311289591, 417.8975077811639, 3.3757468272027014, 5.416804469923524, 1.6349162140819327, 2.3299120214273104]\n",
      "e:\\Videos\\EditedVideos\\VHA-Interview\\Audios\\P86.wav\n",
      "['e:\\\\Videos\\\\EditedVideos\\\\VHA-Interview\\\\Audios\\\\P86.wav', 296.27, 0.08214715320946836, 58.44896995675341, 75.71361486034101, 31.548803503673113, 44.1648113566679, 8.406464806575718, 137.62667234169777, 599.2254758066997, 75.0246011812117, 524.200874625488, 69.90261827021818, 615.0125489168234, 1759.909800043211, 2805.4401512966083, 404.2537528278465, 564.5379996833522, 575.3173261363272, 312.3102772990941, 404.98485410120946, 398.64048339237365, 3.3157168565950332, 5.297883281724737, 1.475978048795496, 2.1475178157299823]\n",
      "e:\\Videos\\EditedVideos\\VHA-Interview\\Audios\\P89.wav\n",
      "['e:\\\\Videos\\\\EditedVideos\\\\VHA-Interview\\\\Audios\\\\P89.wav', 279.3, 0.06430722870307921, 57.641621387699956, 74.27106443607713, 28.133424701991654, 46.13763973408547, 8.896166853105024, 134.09362138265064, 597.7091628701212, 75.44412831816494, 522.2650345519562, 30.71702604206472, 643.1308666202016, 1823.8406823648784, 2842.146197285665, 472.5557208772185, 731.6850684194859, 746.6529047619175, 349.84561212315583, 430.6445930126813, 469.36330968760456, 3.436295556561961, 5.3959229327190155, 1.708404405693494, 2.6258722582686667]\n",
      "e:\\Videos\\EditedVideos\\VHA-Interview\\Audios\\PP1.wav\n",
      "['e:\\\\Videos\\\\EditedVideos\\\\VHA-Interview\\\\Audios\\\\PP1.wav', 133.19997732426305, 0.0174489026761053, 55.193428150445214, 70.05835635488036, 27.727735114504753, 42.330621240375606, 7.785499942270923, 125.7827085689591, 595.7146278834556, 92.61830870513514, 503.09631917832047, 50.530416992536956, 630.4829890421612, 1794.106141120029, 2751.0902172126625, 412.3707150478866, 555.8013917694034, 621.1634525052903, 351.69444679433184, 420.2355070078049, 454.09324267680444, 3.4226663803242596, 5.223546928579279, 1.7444147933419565, 2.474410487056151]\n",
      "e:\\Videos\\EditedVideos\\VHA-Interview\\Audios\\P1.wav\n",
      "['e:\\\\Videos\\\\EditedVideos\\\\VHA-Interview\\\\Audios\\\\P1.wav', 155.97, 0.0471595600740084, 58.82504075473335, 75.08669422398367, 32.66466562421933, 42.42202859976434, 8.18298993523325, 140.05547319210064, 599.2971578198795, 75.26540094242105, 524.0317568774585, 69.59615125826544, 627.4023081769907, 1806.615079736787, 2722.213336165324, 384.9910584885711, 459.67624235783705, 498.75517156195104, 287.88248234276074, 384.523672615369, 392.68491743392644, 3.2979835423138626, 4.954042171214528, 1.4622417800830154, 2.0310774762196715]\n",
      "e:\\Videos\\EditedVideos\\VHA-Interview\\Audios\\P3.wav\n",
      "['e:\\\\Videos\\\\EditedVideos\\\\VHA-Interview\\\\Audios\\\\P3.wav', 272.83, 0.0912750539614143, 59.261270071070875, 77.91505357200658, -300.0, 377.91505357200657, 92.49234306703626, 195.7265953531233, 599.9352234894543, 75.02430634096974, 524.9109171484846, 157.6893245052013, 734.3982749397007, 1922.4226924030318, 3113.852029620641, 465.1561911919341, 618.7885789304869, 582.6000405492147, 432.90943424746234, 539.5842103337379, 769.396104176149, 3.198509316904135, 5.172864590927752, 1.5830121348885318, 2.382108147630792]\n",
      "e:\\Videos\\EditedVideos\\VHA-Interview\\Audios\\P4.wav\n",
      "['e:\\\\Videos\\\\EditedVideos\\\\VHA-Interview\\\\Audios\\\\P4.wav', 241.13, 0.03000771163652038, 54.967074495106196, 72.68191885642334, -300.0, 372.68191885642335, 61.771103503961264, 146.09395683827105, 598.0725216694525, 75.11215492642864, 522.9603667430239, 69.21220686197663, 709.1817889491439, 1853.1749177314193, 2968.78737449089, 439.0136906905094, 607.8634677105076, 565.625087045198, 368.19902653100473, 461.75870262353607, 589.9953730156244, 3.075153730082855, 4.9649488332305864, 1.4287928906037788, 2.228064568956862]\n",
      "e:\\Videos\\EditedVideos\\VHA-Interview\\Audios\\P5.wav\n",
      "['e:\\\\Videos\\\\EditedVideos\\\\VHA-Interview\\\\Audios\\\\P5.wav', 161.13, 0.011435531608074175, 52.53189206282688, 67.45323470771586, -300.0, 367.45323470771586, 53.66287742846587, 145.69591641962168, 595.4368692469137, 75.20878490245086, 520.2280843444629, 94.57505010236174, 751.1378840938145, 1931.5157135524275, 2994.4015374980218, 478.15130597964475, 744.6290757170926, 620.224330794818, 397.71492487677665, 496.93416513745126, 550.6152831089613, 3.085040283581182, 4.913296281783972, 1.5094974097219227, 2.4435714347694306]\n",
      "e:\\Videos\\EditedVideos\\VHA-Interview\\Audios\\P6.wav\n",
      "['e:\\\\Videos\\\\EditedVideos\\\\VHA-Interview\\\\Audios\\\\P6.wav', 293.73, 0.009859361112948061, 49.280449394349766, 65.42080299631107, -300.0, 365.42080299631107, 67.41807979119682, 109.10780029536184, 594.1999350218412, 75.11786009529558, 519.0820749265456, 41.616857495795436, 736.8259707799145, 1928.4332889586778, 3048.349506981887, 495.1190746498314, 757.0352017836245, 618.7967690424556, 380.86143005512116, 479.80029562063766, 609.820359674642, 3.0833693759324934, 4.902789666967582, 1.394264063180119, 2.0984497072362127]\n",
      "e:\\Videos\\EditedVideos\\VHA-Interview\\Audios\\P7.wav\n",
      "['e:\\\\Videos\\\\EditedVideos\\\\VHA-Interview\\\\Audios\\\\P7.wav', 246.53, 0.02722553926474063, 54.44988159567523, 70.60138552252384, -300.0, 370.60138552252386, 75.9178650669066, 127.21909956345411, 589.3648949727288, 74.97845196114359, 514.3864430115852, 67.16594374455029, 764.4937279921434, 1908.9875157092301, 2986.9365278474597, 461.16134084588884, 594.4252461490269, 578.9971405707577, 400.21255881578816, 501.76617643874397, 686.4594783626393, 3.00296121919105, 4.69907239981315, 1.5509187007559149, 2.27078266393162]\n",
      "e:\\Videos\\EditedVideos\\VHA-Interview\\Audios\\P8.wav\n",
      "['e:\\\\Videos\\\\EditedVideos\\\\VHA-Interview\\\\Audios\\\\P8.wav', 298.07, 0.08643872443901952, 58.6442449346476, 75.31846773792418, -300.0, 375.31846773792415, 56.17126903170093, 135.5773698985015, 598.0733410927281, 74.95835912274478, 523.1149819699833, 82.28929336309699, 682.1168818259066, 1827.58761418365, 2963.145759870842, 414.8502849281065, 685.2001199409877, 624.1121564336469, 395.2849101885047, 518.6597481945083, 559.8685815361515, 3.2927929657237374, 5.4190266958253, 1.699192216977303, 2.5767605121523505]\n",
      "e:\\Videos\\EditedVideos\\VHA-Interview\\Audios\\P10.wav\n",
      "['e:\\\\Videos\\\\EditedVideos\\\\VHA-Interview\\\\Audios\\\\P10.wav', 296.27, 0.10743929616871757, 59.61399051738855, 73.60981115607875, -300.0, 373.60981115607876, 89.61936889729756, 111.99454140040302, 559.2349742546252, 74.95012227315789, 484.2848519814673, 28.21934649726178, 725.9510481939542, 1892.5044316325232, 2998.5801694338547, 459.7624661507206, 595.6004297381335, 603.0619435637508, 447.7655960382277, 527.9404660127517, 777.1308048968133, 3.3344304702647842, 5.297126611372086, 1.7909703872706357, 2.6904380124923155]\n",
      "e:\\Videos\\EditedVideos\\VHA-Interview\\Audios\\P11.wav\n",
      "['e:\\\\Videos\\\\EditedVideos\\\\VHA-Interview\\\\Audios\\\\P11.wav', 255.47, 0.034971650016565145, 55.38367344301891, 72.14742181375848, 33.79370845643655, 38.353713357321936, 7.539523273798446, 189.42960074043, 592.9486024320051, 75.27708009300078, 517.6715223390044, 41.48050501411949, 657.4092263429321, 1835.8446327480742, 2862.1321913526926, 387.47338922458965, 534.9206226297863, 610.572045715108, 278.661938265692, 395.08985065109533, 383.60267859890536, 3.203690808209137, 4.978973221156338, 1.4898811646944294, 2.1105992271903786]\n",
      "e:\\Videos\\EditedVideos\\VHA-Interview\\Audios\\P12.wav\n",
      "['e:\\\\Videos\\\\EditedVideos\\\\VHA-Interview\\\\Audios\\\\P12.wav', 194.03, 0.03715314168248944, 56.84420255712723, 77.38042279103651, -300.0, 377.3804227910365, 60.301960945602005, 185.00556130364768, 511.8345491418954, 78.98586773299382, 432.8486814089016, 49.22682047760196, 685.5930199813464, 1797.7547946243892, 2905.278212703391, 471.1673731981883, 581.0455305767047, 710.2863829859706, 388.63310843316685, 470.2308235503772, 624.099504766705, 3.2482522513759515, 5.211526595027926, 1.9390881579499508, 2.8815329560004033]\n",
      "e:\\Videos\\EditedVideos\\VHA-Interview\\Audios\\PP31.wav\n",
      "['e:\\\\Videos\\\\EditedVideos\\\\VHA-Interview\\\\Audios\\\\PP31.wav', 300.83997732426303, 0.07156509110343615, 57.77571654272853, 75.84483306573817, -300.0, 375.84483306573816, 24.453995762625464, 226.11772813962605, 588.779755904088, 77.60642210203304, 511.17333380205497, 41.27452857773264, 667.9166989935411, 1897.4541326175104, 2928.637997821411, 495.5419893594986, 575.4004507332148, 663.1129367596667, 353.9383885490986, 373.9253737731537, 422.5440958562752, 3.477278360546172, 5.370610487988924, 1.7394923928202413, 2.5782526915256527]\n",
      "e:\\Videos\\EditedVideos\\VHA-Interview\\Audios\\PP32.wav\n",
      "['e:\\\\Videos\\\\EditedVideos\\\\VHA-Interview\\\\Audios\\\\PP32.wav', 236.17, 0.09126265396978418, 59.88500175622874, 77.95562935212133, -300.0, 377.9556293521213, 27.299527781534536, 186.2753103717033, 598.1395511259933, 74.98917259395391, 523.1503785320394, 62.32738278885593, 608.8015338483867, 1777.448213253043, 2763.071113348696, 376.2235823503571, 537.976317890515, 623.4071765256028, 307.92826868024997, 388.9789856183712, 438.27327950816704, 3.390616664841373, 5.2549023859875055, 1.5207298016875335, 2.1502513983405853]\n",
      "e:\\Videos\\EditedVideos\\VHA-Interview\\Audios\\PP33.wav\n",
      "['e:\\\\Videos\\\\EditedVideos\\\\VHA-Interview\\\\Audios\\\\PP33.wav', 288.0, 0.10071401313007365, 59.45164187576741, 78.38121212410759, -300.0, 378.3812121241076, 25.04898940889026, 236.6051528007835, 598.0193119463615, 75.29483996193032, 522.7244719844313, 55.660190287481065, 673.2124129541255, 1885.1256869784054, 2877.080676580745, 374.71415129050894, 516.1083611976329, 580.5950542400761, 313.39088441434365, 364.4542859532539, 404.6024222865574, 3.328543832835709, 5.049697329188798, 1.6084713310947312, 2.3097489734678986]\n",
      "e:\\Videos\\EditedVideos\\VHA-Interview\\Audios\\PP35.wav\n",
      "['e:\\\\Videos\\\\EditedVideos\\\\VHA-Interview\\\\Audios\\\\PP35.wav', 187.66, 0.050686775884849565, 58.33052448624146, 83.93443928350209, -300.0, 383.9344392835021, 63.27785562811367, 222.67247124559586, 532.7674797356091, 89.93240330682528, 442.8350764287838, 43.378553091750334, 691.0807726987102, 1851.969919590775, 2901.5064806249607, 439.73617731196475, 552.6001078411506, 562.247970980218, 357.95711943098485, 417.4362650941503, 601.4005107082332, 3.189734678827794, 4.966263857914803, 1.5469051859001568, 2.297992597549414]\n",
      "e:\\Videos\\EditedVideos\\VHA-Interview\\Audios\\PP37.wav\n",
      "['e:\\\\Videos\\\\EditedVideos\\\\VHA-Interview\\\\Audios\\\\PP37.wav', 183.46, 0.03984672205471054, 57.38337703961616, 77.192749570978, -300.0, 377.192749570978, 66.05038812921217, 197.1989716759543, 481.82982883366066, 75.03732951645587, 406.7924993172048, 48.428462997298006, 681.4686105544723, 1879.630321308746, 2991.130804956646, 425.3488705734599, 510.40182546158246, 604.6218741161116, 372.5243848638286, 410.0767545980239, 596.9997825895495, 3.3517539518262054, 5.274331476486905, 1.6553728379767785, 2.3806158341779433]\n",
      "e:\\Videos\\EditedVideos\\VHA-Interview\\Audios\\PP42.wav\n",
      "['e:\\\\Videos\\\\EditedVideos\\\\VHA-Interview\\\\Audios\\\\PP42.wav', 252.31, 0.06541789956780046, 58.15164859367169, 72.59489124290828, -300.0, 372.59489124290826, 26.45456614622556, 119.77744727258717, 598.786635326598, 75.0071429264124, 523.7794924001856, 91.88258149331708, 652.3975602404015, 1788.6575566501508, 2889.835600037597, 452.5757837991838, 544.1748143588984, 631.460728844576, 355.0952925753295, 403.4729274187797, 446.36850873826177, 3.3252954540485242, 5.38253179943577, 1.664637137962018, 2.5088787981234852]\n",
      "e:\\Videos\\EditedVideos\\VHA-Interview\\Audios\\PP43.wav\n",
      "['e:\\\\Videos\\\\EditedVideos\\\\VHA-Interview\\\\Audios\\\\PP43.wav', 129.24, 0.015289071888944154, 54.744684185729454, 68.68363762323372, -300.0, 368.6836376232337, 35.56215458961791, 155.88309503377997, 599.7930434739679, 74.95750450330505, 524.8355389706629, 145.17517182408906, 642.9946120291618, 1768.4929386122485, 2747.4889991548184, 444.4826153270649, 526.8945039487998, 572.315526833826, 321.44630997885525, 400.35618484068533, 498.16952916845685, 3.2567726409945967, 5.0166235450777, 1.6382857637212187, 2.3453238242069716]\n",
      "e:\\Videos\\EditedVideos\\VHA-Interview\\Audios\\PP44.wav\n",
      "['e:\\\\Videos\\\\EditedVideos\\\\VHA-Interview\\\\Audios\\\\PP44.wav', 369.01, 0.022864935252313943, 51.93597245321733, 70.96913274504254, -300.0, 370.96913274504254, 21.648774610835787, 208.80234785776463, 599.322709717913, 74.95276462788385, 524.3699450900291, 141.48905680885733, 675.427942185316, 1885.512492581991, 2904.7563030045753, 561.7228910762275, 748.8425046428146, 820.0764041991962, 371.79820870493336, 401.4497735816986, 491.76072420055556, 3.4629815009803693, 5.332967296515754, 1.7942938490965312, 2.6717863055968913]\n",
      "e:\\Videos\\EditedVideos\\VHA-Interview\\Audios\\PP45.wav\n",
      "['e:\\\\Videos\\\\EditedVideos\\\\VHA-Interview\\\\Audios\\\\PP45.wav', 197.81, 0.07491666612825935, 59.79257491653633, 74.78908959355249, -300.0, 374.7890895935525, 29.856190522306743, 131.62236388755065, 598.8822325691152, 75.0442879192018, 523.8379446499134, 72.21381889738547, 585.2519913623005, 1813.908753583757, 2773.6954320373848, 383.08625161900324, 533.4281642082356, 638.4964120538526, 325.93053314505397, 382.6907957424099, 479.2656191970625, 3.8025412419735276, 5.749113448664328, 1.9402801662862463, 2.7576333581902683]\n",
      "e:\\Videos\\EditedVideos\\VHA-Interview\\Audios\\PP47.wav\n",
      "['e:\\\\Videos\\\\EditedVideos\\\\VHA-Interview\\\\Audios\\\\PP47.wav', 137.44, 0.007319628384894117, 51.27931525265392, 71.19539357626505, -300.0, 371.195393576265, 34.14239493456134, 123.8433455559361, 537.812787753896, 75.01972497154682, 462.79306278234924, 37.269277566036834, 716.6500442042791, 1880.7899046751286, 2947.604614888504, 595.8993935280347, 696.3949323234153, 675.333876938044, 395.406378767781, 439.98440242731897, 512.9747303605247, 3.2580781667230743, 5.156225322281601, 1.7403581488302353, 2.723731496823189]\n",
      "e:\\Videos\\EditedVideos\\VHA-Interview\\Audios\\PP34.wav\n",
      "['e:\\\\Videos\\\\EditedVideos\\\\VHA-Interview\\\\Audios\\\\PP34.wav', 289.88, 0.028565636977241703, 53.95127753994939, 70.70607207262617, -300.0, 370.70607207262617, 24.274394878086564, 183.68915220687052, 594.3043467820285, 75.01645561366574, 519.2878911683628, 47.37960559657285, 648.4203080128208, 1821.0805537701083, 2830.1068266677858, 460.58768551720107, 590.6449805092321, 551.9984950283463, 360.47184985924616, 381.23911949542673, 424.27958971093125, 3.392181913978636, 5.300076130940526, 1.6595059283947708, 2.5079163329044487]\n",
      "e:\\Videos\\EditedVideos\\VHA-Interview\\Audios\\PP3.wav\n",
      "['e:\\\\Videos\\\\EditedVideos\\\\VHA-Interview\\\\Audios\\\\PP3.wav', 291.83, 0.08758432525820675, 58.7922186504197, 78.54326910914072, 31.77768665461239, 46.765582454528335, 8.22136979431147, 152.5766470589619, 599.5402371655875, 74.96677804116673, 524.5734591244208, 131.55896554482453, 634.9206349341757, 1805.5378274241, 2928.7976406196494, 445.5191036839148, 592.4834517726408, 601.1828421598578, 365.0250722412376, 461.1029526775258, 430.29092839764814, 3.443090599929308, 5.6444560489017706, 1.7633846635056176, 2.7424403327843767]\n",
      "e:\\Videos\\EditedVideos\\VHA-Interview\\Audios\\PP4.wav\n",
      "['e:\\\\Videos\\\\EditedVideos\\\\VHA-Interview\\\\Audios\\\\PP4.wav', 295.1, 0.03127629114496235, 54.272232290422664, 69.5706031890131, 32.742106840722485, 36.828496348290614, 7.487070498992854, 143.27561808682182, 597.6991696700193, 74.99031408215411, 522.7088555878652, 78.0817328902831, 630.0788795059202, 1776.2676638619344, 2899.887607965583, 433.94687509735223, 586.4708536072702, 605.2281903056975, 342.2444372534108, 419.38781918202193, 390.4225110770621, 3.369365624655869, 5.510351019455411, 1.7266346761839382, 2.5873714758034785]\n",
      "e:\\Videos\\EditedVideos\\VHA-Interview\\Audios\\PP48.wav\n",
      "['e:\\\\Videos\\\\EditedVideos\\\\VHA-Interview\\\\Audios\\\\PP48.wav', 194.07, 0.028807862480855654, 55.73037511356904, 79.42352325412587, -300.0, 379.4235232541259, 29.018353460920448, 153.1171157776397, 599.4591457647477, 75.32416388275894, 524.1349818819888, 98.810936585969, 685.6026212214414, 1830.8995401695754, 2875.5952754381638, 589.6597830442674, 656.0141781485086, 770.7360293575144, 377.90506565880264, 389.13230227384975, 486.5314471600082, 3.2629254188793513, 5.161468127117877, 1.5967293379036787, 2.5199019712081534]\n",
      "e:\\Videos\\EditedVideos\\VHA-Interview\\Audios\\PP49.wav\n",
      "['e:\\\\Videos\\\\EditedVideos\\\\VHA-Interview\\\\Audios\\\\PP49.wav', 303.08997732426303, 0.17764393661796046, 61.693407671887044, 79.3677709401957, -300.0, 379.36777094019567, 24.965478079267502, 124.05949482722188, 580.7938109768525, 75.03029340529649, 505.76351757155595, 52.02145506578645, 643.5103904209227, 1806.7668939450746, 2841.643008687671, 436.92113715440274, 576.0247961155507, 637.2261611697255, 345.7713565341638, 401.0747062403939, 455.1425304168074, 3.3831032733086244, 5.322051513542312, 1.6595346454693183, 2.4538760331700242]\n",
      "e:\\Videos\\EditedVideos\\VHA-Interview\\Audios\\PP50.wav\n",
      "['e:\\\\Videos\\\\EditedVideos\\\\VHA-Interview\\\\Audios\\\\PP50.wav', 261.36, 0.021248606170940466, 53.115313231552726, 71.13788633284756, -300.0, 371.13788633284753, 25.14892999028271, 137.6573564262615, 598.8686642932971, 75.04077186271658, 523.8278924305805, 126.747316458177, 649.4077694959783, 1795.9696363458509, 2886.348420141129, 455.0323321242553, 530.0498067594159, 578.0709031093385, 316.16696899150674, 403.04413334084546, 446.22840235522466, 3.2159725201017544, 5.172083130576173, 1.5124169110135182, 2.2713882487310633]\n",
      "e:\\Videos\\EditedVideos\\VHA-Interview\\Audios\\PP5.wav\n",
      "['e:\\\\Videos\\\\EditedVideos\\\\VHA-Interview\\\\Audios\\\\PP5.wav', 196.37, 0.005279985571395002, 48.31887797196849, 68.30262307449513, 28.833697002031272, 39.46892607246386, 5.657409977470568, 123.47299003924739, 597.5770858537429, 74.93994157554117, 522.6371442782017, 47.31027680413218, 680.823396507386, 1854.2349283907574, 2927.0441907356135, 554.7944180703059, 683.8157009265536, 674.118438570378, 402.8749542933167, 439.0796689769163, 438.81228680786194, 3.388542328572356, 5.440425081728313, 1.819674375210561, 2.901655813188368]\n",
      "e:\\Videos\\EditedVideos\\VHA-Interview\\Audios\\PP6.wav\n",
      "['e:\\\\Videos\\\\EditedVideos\\\\VHA-Interview\\\\Audios\\\\PP6.wav', 293.63, 0.007612890583519549, 48.15817990117495, 64.72851423758169, 24.265404596275097, 40.463109641306595, 5.454673491746317, 112.76338273158602, 569.9618201306155, 74.95584398429364, 495.0059761463218, 33.65451806973282, 690.1680634214833, 1880.5020514549035, 2950.8974807845034, 537.303205758528, 692.2144680487542, 689.3991937961766, 394.2616903058758, 431.4504522100639, 454.77142222469956, 3.355059258298124, 5.313980016273684, 1.7979008976452715, 2.785969979244968]\n",
      "e:\\Videos\\EditedVideos\\VHA-Interview\\Audios\\PP7.wav\n",
      "['e:\\\\Videos\\\\EditedVideos\\\\VHA-Interview\\\\Audios\\\\PP7.wav', 166.13, 0.01692563761527718, 54.10184015098003, 71.37574866465081, 28.942766297601025, 42.43298236704979, 7.107970433556616, 128.84009249394697, 594.4547630272414, 75.51621855798925, 518.9385444692521, 51.07661198903516, 655.8742637865267, 1795.3733280581741, 2820.6270523313865, 464.40042856594044, 578.2719558487365, 600.7260528077114, 351.5594581769748, 430.77405426311907, 432.4808582496448, 3.309793617475786, 5.196808298926523, 1.7498693294957544, 2.553485324533388]\n",
      "e:\\Videos\\EditedVideos\\VHA-Interview\\Audios\\PP8.wav\n",
      "['e:\\\\Videos\\\\EditedVideos\\\\VHA-Interview\\\\Audios\\\\PP8.wav', 275.2, 0.0879283459600915, 59.06519367086277, 76.37573332976143, 11.588151169424021, 64.78758216033741, 9.777024301321102, 132.30740982448324, 598.8998229033353, 74.95060730599768, 523.9492155973377, 75.5315514548745, 605.1114433439758, 1746.4269056234198, 2853.653075337933, 401.1123249926353, 586.2998933866251, 618.6745688392278, 373.09833052085685, 452.78159353088967, 424.2634179671089, 3.5867251596466247, 5.860708963394734, 1.9609397663743824, 2.8441667866649274]\n",
      "e:\\Videos\\EditedVideos\\VHA-Interview\\Audios\\PP10.wav\n",
      "['e:\\\\Videos\\\\EditedVideos\\\\VHA-Interview\\\\Audios\\\\PP10.wav', 203.13, 0.05007164109347966, 57.9377607835427, 73.85102744281839, 27.615539260271284, 46.23548818254711, 9.814542496207524, 109.81720380919255, 578.9888373322461, 75.08225695656198, 503.90658037568414, 27.799314292291015, 620.9736258149178, 1786.7501229738502, 2781.890224351063, 480.48382889494314, 576.847223241652, 618.7597549520773, 392.86466802589956, 438.2444120306748, 492.2623358999673, 3.7135286686872573, 5.797622392148874, 2.174013986165775, 3.2692019335615683]\n",
      "e:\\Videos\\EditedVideos\\VHA-Interview\\Audios\\PP11.wav\n",
      "['e:\\\\Videos\\\\EditedVideos\\\\VHA-Interview\\\\Audios\\\\PP11.wav', 151.47, 0.017333182418843587, 54.60588979373216, 71.25230796742468, 31.290887144004614, 39.96142082342007, 6.411388010328864, 191.74598072854042, 583.2203505015807, 77.08781177935339, 506.1325387222273, 46.233626969518355, 634.1277514663066, 1815.6950397830053, 2821.321186360299, 402.91218390153665, 501.46242211763274, 602.8412332759862, 297.3656508162658, 372.35097176756335, 395.29512293290463, 3.3564034201699937, 5.212284393850395, 1.6442105406084027, 2.4856366278816773]\n",
      "e:\\Videos\\EditedVideos\\VHA-Interview\\Audios\\PP12.wav\n",
      "['e:\\\\Videos\\\\EditedVideos\\\\VHA-Interview\\\\Audios\\\\PP12.wav', 156.4, 0.05001561819115824, 59.0682839603662, 74.7100134727221, 23.808382668276682, 50.90163080444542, 8.733476392806846, 200.62843223462713, 584.0345621423193, 79.6869998522333, 504.347562290086, 40.46746620047353, 620.4893296354945, 1719.1515922825456, 2722.251084610942, 413.0058353681222, 581.1239122440394, 647.0033734259922, 319.2173694651182, 403.49577867256977, 418.2192611283375, 3.2969902677992398, 5.2260259137151825, 1.7182156175002687, 2.6097644433725398]\n",
      "e:\\Videos\\EditedVideos\\VHA-Interview\\Audios\\PP13.wav\n",
      "['e:\\\\Videos\\\\EditedVideos\\\\VHA-Interview\\\\Audios\\\\PP13.wav', 231.57, 0.006205804479391491, 48.30439768853795, 63.99544241988832, 16.849037160655875, 47.146405259232445, 4.26753379550664, 181.1903301542008, 369.1708882428549, 75.46682910907478, 293.7040591337801, 38.85804833038635, 617.1977033135707, 1809.8521424774626, nan, 483.5350496827373, 621.1576757838027, nan, 354.04005043841136, 351.6486743993252, nan, 3.574795106485891, nan, 1.8069882489429054, nan]\n",
      "e:\\Videos\\EditedVideos\\VHA-Interview\\Audios\\PP14.wav\n",
      "['e:\\\\Videos\\\\EditedVideos\\\\VHA-Interview\\\\Audios\\\\PP14.wav', 215.2, 0.09556982295682483, 60.49443127453375, 75.14960884481746, 36.23524705936819, 38.91436178544927, 8.018463626751549, 199.93242527346337, 583.7993041093316, 75.14986295870017, 508.64944115063145, 50.12947910791664, 627.5684395075481, 1879.2807026865487, 2928.3983331591808, 411.97138183250473, 598.4548959066013, 666.9981932129026, 316.89277016893004, 396.03736232934074, 396.70601963475775, 3.5938224170330604, 5.610581172772649, 1.7779770431067887, 2.6751315236764692]\n",
      "e:\\Videos\\EditedVideos\\VHA-Interview\\Audios\\PP15.wav\n",
      "['e:\\\\Videos\\\\EditedVideos\\\\VHA-Interview\\\\Audios\\\\PP15.wav', 286.0, 0.040981577280268154, 55.57928917321283, 79.64932276541454, 28.682910899872766, 50.96641186554177, 7.5327692628108265, 181.57942253333655, 599.2395244789967, 74.95795147539702, 524.2815730035996, 60.67739055876171, 630.7417441439854, 1782.0371064101214, 2803.252595100808, 412.75863184198744, 552.9213956599866, 609.7283081977625, 312.51591848090743, 391.6813657106842, 395.36423879895597, 3.295191102956929, 5.207747946565521, 1.5502650897764119, 2.357872186524556]\n",
      "e:\\Videos\\EditedVideos\\VHA-Interview\\Audios\\PP16.wav\n",
      "['e:\\\\Videos\\\\EditedVideos\\\\VHA-Interview\\\\Audios\\\\PP16.wav', 226.07, 0.03914684854235844, 56.40409203144182, 72.3733256299404, 19.85576716644067, 52.517558463499725, 6.8502486030089855, 209.54309900726105, 580.5632639683632, 76.9179282875019, 503.6453356808613, 48.67900245145009, 631.5061526806242, 1818.538053920173, 2876.484403146877, 403.36292379748187, 509.8805256224635, 561.4324706761992, 308.13564952865437, 355.8118525548285, 357.84645737047254, 3.440587817265614, 5.4429524943692815, 1.7579068711346102, 2.678810958010038]\n",
      "e:\\Videos\\EditedVideos\\VHA-Interview\\Audios\\PP17.wav\n",
      "['e:\\\\Videos\\\\EditedVideos\\\\VHA-Interview\\\\Audios\\\\PP17.wav', 296.39997732426303, 0.025729511048815254, 53.40562382233677, 73.23527336169789, 33.861879707240654, 39.37339365445724, 6.058784599106786, 195.42186142919647, 595.8764018069081, 75.01638769717071, 520.8600141097374, 69.27696919626986, 638.921850421006, 1779.7088007712891, 2906.6352176548135, 467.2419468971169, 560.360610239809, 631.0903419212285, 359.5790742056918, 400.65713492159665, 393.2344664937669, 3.4299377202936814, 5.617398705053866, 1.9023234779461002, 2.929682898784073]\n",
      "e:\\Videos\\EditedVideos\\VHA-Interview\\Audios\\PP20.wav\n",
      "['e:\\\\Videos\\\\EditedVideos\\\\VHA-Interview\\\\Audios\\\\PP20.wav', 186.33, 0.015357252195085734, 53.18038726781241, 68.96006230779682, 17.868756849593378, 51.091305458203436, 6.336340404206733, 197.0770725583608, 599.9846693864534, 74.985350914331, 524.9993184721225, 65.7458472726319, 590.1930244743785, 1840.1943377390055, 2898.2155806999754, 504.79038947373704, 725.27017851371, 784.4715745077289, 380.553070670557, 372.18068264239866, 412.37237666281624, 4.087913433752716, 6.50385722360755, 2.193785289594315, 3.540672698065623]\n",
      "e:\\Videos\\EditedVideos\\VHA-Interview\\Audios\\PP21.wav\n",
      "['e:\\\\Videos\\\\EditedVideos\\\\VHA-Interview\\\\Audios\\\\PP21.wav', 233.43, 0.02925523485563045, 54.999994399100785, 72.16586380810358, 16.111115040359508, 56.05474876774407, 6.600020428007217, 217.27875809137922, 583.0912366688149, 75.74650065525933, 507.3447360135556, 53.46461268016781, 666.1739216449251, 1860.3828328624813, 2932.9611257153683, 438.15648157105704, 533.6715115003344, 627.639305635346, 319.97910131812915, 422.0958462070702, 381.3888134928732, 3.300424699039328, 5.194482737706137, 1.6264689383704647, 2.363674462966848]\n",
      "e:\\Videos\\EditedVideos\\VHA-Interview\\Audios\\PP22.wav\n",
      "['e:\\\\Videos\\\\EditedVideos\\\\VHA-Interview\\\\Audios\\\\PP22.wav', 286.33, 0.023533477844787543, 53.1689329028302, 72.27634289189938, 19.39059939147021, 52.885743500429164, 6.067571184294679, 174.67203018860482, 599.900797103043, 74.93594599463505, 524.964851108408, 71.86350199635085, 611.7136813853424, 1823.963233273433, nan, 441.9444986282278, 587.1263696740857, nan, 336.24492745797636, 370.61145581141153, nan, 3.5710971089380736, nan, 1.7365415984333845, nan]\n",
      "e:\\Videos\\EditedVideos\\VHA-Interview\\Audios\\PP24.wav\n",
      "['e:\\\\Videos\\\\EditedVideos\\\\VHA-Interview\\\\Audios\\\\PP24.wav', 170.1, 0.04322499240087508, 58.07134203327344, 71.73141704316926, 33.630649665989495, 38.100767377179764, 7.576925779363803, 219.53628312918423, 587.8737372216294, 81.79402625099223, 506.07971097063717, 53.84024302451903, 626.8849644500656, 1856.0812023691926, 2900.867703471923, 383.0282945234674, 548.5417415662878, 616.5780372083252, 307.19599670800415, 379.88910533825685, 384.06919611027126, 3.5145547513561235, 5.4830341470750525, 1.6720739236581705, 2.4707284048782294]\n",
      "e:\\Videos\\EditedVideos\\VHA-Interview\\Audios\\PP25.wav\n",
      "['e:\\\\Videos\\\\EditedVideos\\\\VHA-Interview\\\\Audios\\\\PP25.wav', 264.57, 0.06294204246989003, 57.782959276003595, 74.35987066076561, 31.535647230079924, 42.824223430685684, 7.700669715724057, 215.61653635411912, 599.8870427091397, 75.09967567514923, 524.7873670339904, 96.33183090876622, 625.5992707408868, 1802.977065099276, 2863.2720094847687, 355.9457159895526, 438.44903281275873, 556.8544776961951, 295.6861717627391, 358.61666653530625, 368.74375821267614, 3.374191212975654, 5.344509571046744, 1.5946874968918388, 2.3603258721255047]\n",
      "e:\\Videos\\EditedVideos\\VHA-Interview\\Audios\\PP27.wav\n",
      "['e:\\\\Videos\\\\EditedVideos\\\\VHA-Interview\\\\Audios\\\\PP27.wav', 227.0, 0.021437243274754606, 53.77204105564347, 74.07539651276606, 19.904019995268996, 54.171376517497066, 6.4989308673431365, 180.38712109924523, 591.0318419429246, 75.12448110411535, 515.9073608388093, 39.562614598129834, 636.8758551538118, 1825.8235056693075, 2767.2379115362496, 423.22605121667954, 548.3540689880847, 542.0401106803803, 305.22038686975066, 358.11306278150226, 375.29887174198836, 3.3624422814702224, 5.081971756488174, 1.5529286539668858, 2.269955705388334]\n",
      "e:\\Videos\\EditedVideos\\VHA-Interview\\Audios\\PP29.wav\n",
      "['e:\\\\Videos\\\\EditedVideos\\\\VHA-Interview\\\\Audios\\\\PP29.wav', 270.02997732426303, 0.032324414856049456, 54.80282094404703, 75.50121308707277, 15.29441357276092, 60.206799514311854, 6.963335570135526, 202.11774462229423, 593.6419406601474, 75.19034409988443, 518.4515965602629, 54.407767969072395, 626.3561100617086, 1801.3021611300965, 2773.733488864998, 412.94601119903274, 628.8139413961698, 674.6521959114325, 318.1173084893895, 380.14983573775226, 443.5244392044306, 3.3781715791145204, 5.207972192754959, 1.6246100731639321, 2.425949085940727]\n",
      "e:\\Videos\\EditedVideos\\VHA-Interview\\Audios\\PP30.wav\n",
      "['e:\\\\Videos\\\\EditedVideos\\\\VHA-Interview\\\\Audios\\\\PP30.wav', 167.17, 0.0028987323149589576, 46.41336088133262, 63.836744687175546, 29.66567956906402, 34.17106511811153, 4.5955915796969125, 169.02410850541918, 598.7611488376587, 75.3907382747104, 523.3704105629482, 67.04747360845967, 685.1384822256211, 1860.8233180551947, 2895.349039061842, 588.7246997424486, 619.6089097301877, 739.1915833012557, 371.4322615296628, 322.80068782407966, 397.66056757929925, 3.312672199560033, 5.205731786171018, 1.5691826314731638, 2.545058591802327]\n",
      "e:\\Videos\\EditedVideos\\VHA-Interview\\Audios\\PP59.wav\n",
      "['e:\\\\Videos\\\\EditedVideos\\\\VHA-Interview\\\\Audios\\\\PP59.wav', 240.74, 0.09221756741573402, 59.84777050041315, 85.31140981010816, -300.0, 385.31140981010816, 27.266036827085106, 233.3735783356288, 576.2244786733722, 89.4891130264891, 486.7353656468831, 50.49221880740653, 650.8897464086617, 1896.771152498217, 2906.4762545932526, 370.2415887320143, 547.1576975820597, 599.0271577119017, 310.18596652762966, 404.8218786752931, 432.2852356144701, 3.4183360402080254, 5.221414850860137, 1.5783115316045828, 2.2132003412901415]\n",
      "e:\\Videos\\EditedVideos\\VHA-Interview\\Audios\\PP60.wav\n",
      "['e:\\\\Videos\\\\EditedVideos\\\\VHA-Interview\\\\Audios\\\\PP60.wav', 303.44, 0.040418203049675236, 55.257567474414486, 74.11977271250535, -300.0, 374.1197727125053, 23.867327547026825, 193.38709321482295, 596.5001008673685, 74.97048918353818, 521.5296116838304, 45.219136548681604, 636.7561042847361, 1854.706513118051, 2924.5895728959217, 347.67583465073943, 536.0751953306846, 563.687197450965, 259.31072882849986, 360.97438918001285, 354.0657847277855, 3.28935012044839, 5.152805708538184, 1.4097583753665812, 1.9687055713864385]\n",
      "e:\\Videos\\EditedVideos\\VHA-Interview\\Audios\\PP61.wav\n",
      "['e:\\\\Videos\\\\EditedVideos\\\\VHA-Interview\\\\Audios\\\\PP61.wav', 151.84, 0.004542760390554838, 48.77571382819514, 70.82048773202578, -300.0, 370.82048773202575, 31.990408118814294, 185.9174874206355, 564.3140721393798, 76.7629833380349, 487.5510888013449, 38.16783817740049, 723.5511462246517, 1961.4764253175247, 3029.571550916384, 606.7659867473516, 713.1345270281067, 763.5273244218871, 418.35774106494745, 389.34397488532466, 473.3223635039585, 3.4467099665578376, 5.3884522023993835, 1.9273484169610078, 3.075414883372607]\n",
      "e:\\Videos\\EditedVideos\\VHA-Interview\\Audios\\PP62.wav\n",
      "['e:\\\\Videos\\\\EditedVideos\\\\VHA-Interview\\\\Audios\\\\PP62.wav', 306.41, 0.046647373094922444, 55.83997686949279, 73.61898579182667, -300.0, 373.6189857918267, 24.046452708172502, 204.0517644500183, 596.5756063553678, 76.24014035913476, 520.335465996233, 39.8682342676512, 713.8207890991267, 1857.736882929152, 2928.540588989825, 460.5083566713174, 601.1155769554249, 650.731111369115, 340.66994936593176, 407.5080669772805, 432.3474219097442, 3.1012832037335514, 4.900568796882706, 1.5723833625401409, 2.362916230037528]\n",
      "e:\\Videos\\EditedVideos\\VHA-Interview\\Audios\\PP63.wav\n",
      "['e:\\\\Videos\\\\EditedVideos\\\\VHA-Interview\\\\Audios\\\\PP63.wav', 306.43, 0.008964429433026418, 48.676438604379456, 65.8004077824032, -300.0, 365.8004077824032, 22.933804702193747, 129.56240417474814, 595.0830663428991, 75.00737284822866, 520.0756934946704, 106.30214260272537, 686.7944585399293, 1824.4294240956535, 2899.2532979708544, 578.3514000338644, 626.0546375200116, 647.921664671158, 379.26241640865226, 418.2983906151011, 450.2536850040905, 3.2372687337285155, 5.207777502050123, 1.695207841536405, 2.6877204304162525]\n",
      "e:\\Videos\\EditedVideos\\VHA-Interview\\Audios\\PP64.wav\n",
      "['e:\\\\Videos\\\\EditedVideos\\\\VHA-Interview\\\\Audios\\\\PP64.wav', 295.57, 0.09782983722258291, 59.2117374893623, 76.73774329949984, -300.0, 376.7377432994998, 24.58750318091051, 124.86784269539578, 595.5308204744393, 75.0262231770394, 520.5045972974, 58.76481045200347, 647.3942907204685, 1822.4321876134086, 2833.63992727721, 492.8913885163357, 587.6161649864127, 617.3935046532318, 392.9791030680959, 439.27160116266737, 498.29583761104226, 3.5235896289960342, 5.5024433696244985, 1.891524119107062, 2.8159793442938765]\n",
      "e:\\Videos\\EditedVideos\\VHA-Interview\\Audios\\PP52.wav\n",
      "['e:\\\\Videos\\\\EditedVideos\\\\VHA-Interview\\\\Audios\\\\PP52.wav', 301.14, 0.01436737608844323, 50.80149377900437, 64.82434645089346, -300.0, 364.8243464508935, 23.58133095108079, 113.87043059646753, 596.1049114322526, 75.02660868357384, 521.0783027486788, 60.26398447639102, 690.1394671548941, 1822.9158939030242, 2902.696325983845, 577.2666769181706, 644.3490806938178, 729.5844082882957, 371.44303147292607, 442.3434107977727, 508.11648386201705, 3.202705607131741, 5.144878877208952, 1.668617235473038, 2.6511054789305346]\n",
      "e:\\Videos\\EditedVideos\\VHA-Interview\\Audios\\PP53.wav\n",
      "['e:\\\\Videos\\\\EditedVideos\\\\VHA-Interview\\\\Audios\\\\PP53.wav', 287.74, 0.03176307867895267, 54.44003380399808, 73.04691147106001, -300.0, 373.04691147106, 24.269193966444885, 159.06592249250977, 579.6116232794502, 75.00255084992877, 504.60907242952146, 44.50377594388677, 578.8185330396017, 1768.0561471119045, 2810.343496090162, 376.5928467865299, 522.114661075255, 604.0488984295423, 317.19794184029496, 377.4597780679587, 417.99226006074167, 3.620268390259443, 5.779165577223114, 1.6296792331885157, 2.515060857631565]\n",
      "e:\\Videos\\EditedVideos\\VHA-Interview\\Audios\\PP55.wav\n",
      "['e:\\\\Videos\\\\EditedVideos\\\\VHA-Interview\\\\Audios\\\\PP55.wav', 186.04, 0.008236943748067872, 50.477541083687576, 67.93744512621257, -300.0, 367.93744512621254, 29.804932111880657, 180.9458665341927, 575.767143316138, 75.06154101297037, 500.70560230316767, 43.986778942208836, 700.0804130279568, 1869.7906755716729, 2928.4248048301993, 474.042921338747, 655.1015213928548, 712.9959697481277, 303.6567888066864, 390.23939930504173, 440.90603624809654, 3.0293486723275835, 4.75364444644847, 1.2173529819267468, 1.8136001078581876]\n",
      "e:\\Videos\\EditedVideos\\VHA-Interview\\Audios\\PP56.wav\n",
      "['e:\\\\Videos\\\\EditedVideos\\\\VHA-Interview\\\\Audios\\\\PP56.wav', 217.18, 0.006677006128151822, 48.89411851458543, 67.15011571182157, -300.0, 367.15011571182157, 27.273362751116014, 202.72835241084934, 596.3037378422938, 75.27375574381313, 521.0299820984807, 47.446683040771404, 682.0063363812634, 1884.155390960088, 2961.508212658752, 527.6686816394267, 626.1832963818816, 702.2286504388632, 376.5205961998059, 373.0116499039176, 431.3379896118307, 3.379994690969794, 5.352034803713032, 1.6649230228038894, 2.6413417059600914]\n",
      "e:\\Videos\\EditedVideos\\VHA-Interview\\Audios\\PP57.wav\n",
      "['e:\\\\Videos\\\\EditedVideos\\\\VHA-Interview\\\\Audios\\\\PP57.wav', 245.83, 0.04392282027299354, 56.53571803095369, 70.42847649916544, -300.0, 370.4284764991654, 26.287968353842782, 193.92565101268687, 595.0396228889964, 75.02333077787543, 520.016292111121, 39.93632715283091, 632.3885541600558, 1855.5962284030795, nan, 369.22460888036204, 641.7719876346938, nan, 291.2013205694628, 384.59713532012876, nan, 3.4601823328205263, nan, 1.7421223737554454, nan]\n",
      "e:\\Videos\\EditedVideos\\VHA-Interview\\Audios\\PP58.wav\n",
      "['e:\\\\Videos\\\\EditedVideos\\\\VHA-Interview\\\\Audios\\\\PP58.wav', 198.97, 0.009309390696481876, 50.71622627657419, 67.06860068300594, -300.0, 367.0686006830059, 28.401619180883987, 205.76192579692886, 596.2561365178491, 75.01117013382355, 521.2449663840255, 43.16267317778979, 715.0337065409996, 1938.0101712321973, nan, 576.9238468218379, 704.9682155811304, nan, 373.02884922786, 381.67284611315944, nan, 3.422587161320347, nan, 1.932632389242588, nan]\n",
      "Some Process in running file\n"
     ]
    }
   ],
   "source": [
    "audio_analysis()"
   ]
  },
  {
   "cell_type": "code",
   "execution_count": 4,
   "metadata": {},
   "outputs": [
    {
     "name": "stdout",
     "output_type": "stream",
     "text": [
      "  Participant          Worker  Overall  RecommendHiring  Colleague  Engaged  \\\n",
      "0          p1  A1ITBXITLY2952      5.0              5.0        6.0      6.0   \n",
      "1          p1  A1OLRUT93TXWEP      6.0              6.0        7.0      5.0   \n",
      "2          p1  A1ZQ7A1CUV6RD8      6.0              6.0        3.0      7.0   \n",
      "3          p1   A2F7D8EOTB663      6.0              5.0        6.0      7.0   \n",
      "4          p1  A323WW03VM8089      3.0              3.0        4.0      4.0   \n",
      "\n",
      "   Excited  EyeContact  Smiled  SpeakingRate  ...  Friendly  Paused  \\\n",
      "0      5.0         5.0     4.0          4.00  ...       6.0     6.0   \n",
      "1      4.0         6.0     5.0          5.00  ...       5.0     7.0   \n",
      "2      6.0         7.0     4.0          3.50  ...       4.0     6.0   \n",
      "3      5.0         7.0     4.0          5.00  ...       5.0     7.0   \n",
      "4      4.0         4.0     3.0          5.25  ...       5.0     4.0   \n",
      "\n",
      "   EngagingTone  StructuredAnswers  Calm  NotStressed  Focused  Authentic  \\\n",
      "0           5.0                5.0   6.0          6.0      6.0        5.0   \n",
      "1           6.0                5.0   6.0          6.0      6.0        6.0   \n",
      "2           6.0                3.0   7.0          7.0      6.0        7.0   \n",
      "3           5.0                5.0   7.0          7.0      7.0        6.0   \n",
      "4           4.0                3.0   4.0          4.0      5.0        5.0   \n",
      "\n",
      "   NotAwkward   Total  \n",
      "0         6.0   93.00  \n",
      "1         6.0   99.00  \n",
      "2         6.0   97.50  \n",
      "3         5.0  105.00  \n",
      "4         4.0   71.25  \n",
      "\n",
      "[5 rows x 21 columns]\n"
     ]
    }
   ],
   "source": [
    "import pandas as pd\n",
    "\n",
    "file_path = \"audio_labels.csv\"\n",
    "\n",
    "df = pd.read_csv(file_path)\n",
    "print(df.head())\n"
   ]
  },
  {
   "cell_type": "code",
   "execution_count": 5,
   "metadata": {},
   "outputs": [
    {
     "name": "stdout",
     "output_type": "stream",
     "text": [
      "     Participant   Focused  EngagingTone   Excited  SpeakingRate      Calm  \\\n",
      "9             p1  5.845226      5.147909  5.043890      4.865590  5.351075   \n",
      "19            p3  5.549829      5.621231  5.601586      5.016286  4.476537   \n",
      "29            p4  5.324136      4.392736  4.261343      4.738000  5.065190   \n",
      "39            p5  6.322086      4.695523  4.707062      4.927181  6.130488   \n",
      "49            p6  5.619420      4.261988  4.648259      4.174891  5.828977   \n",
      "...          ...       ...           ...       ...           ...       ...   \n",
      "1338        pp83  6.083629      5.801601  5.806617      4.655062  5.492810   \n",
      "1348        pp84  5.988186      5.625489  5.307262      4.656370  5.112062   \n",
      "1358        pp85  6.554104      5.239474  5.584830      4.263639  4.985095   \n",
      "1368        pp86  5.078459      5.208898  5.137644      4.645732  5.648693   \n",
      "1377        pp89  5.078843      4.906939  4.407999      4.599027  5.999464   \n",
      "\n",
      "      StructuredAnswers    Paused  NoFillers  Friendly  \n",
      "9              4.891580  5.800468   3.771665  5.254784  \n",
      "19             3.912199  4.791550   3.332458  6.500329  \n",
      "29             4.688379  5.177447   3.111445  5.369884  \n",
      "39             5.582514  5.886326   5.881741  5.649119  \n",
      "49             4.826245  5.027823   3.920329  4.495375  \n",
      "...                 ...       ...        ...       ...  \n",
      "1338           4.878478  5.764552   4.838943  6.549279  \n",
      "1348           4.890114  5.912420   5.047772  6.529525  \n",
      "1358           4.918227  5.643748   4.097177  5.970750  \n",
      "1368           4.240302  4.814251   4.126127  5.022182  \n",
      "1377           4.258525  5.904252   3.328301  5.667336  \n",
      "\n",
      "[138 rows x 10 columns]\n"
     ]
    }
   ],
   "source": [
    "aggr_worker_rows = df[df['Worker'] == 'AGGR']\n",
    "selected_columns = ['Participant', 'Focused', 'EngagingTone', 'Excited', 'SpeakingRate', 'Calm', 'StructuredAnswers', 'Paused', 'NoFillers', 'Friendly']\n",
    "aggr_worker_data = aggr_worker_rows.loc[:, selected_columns]\n",
    "print(aggr_worker_data)"
   ]
  },
  {
   "cell_type": "code",
   "execution_count": 6,
   "metadata": {},
   "outputs": [],
   "source": [
    "aggr_worker_data.to_csv('labels.csv', index=False)"
   ]
  },
  {
   "cell_type": "code",
   "execution_count": 7,
   "metadata": {},
   "outputs": [
    {
     "name": "stdout",
     "output_type": "stream",
     "text": [
      "    Participant   Focused  EngagingTone   Excited  SpeakingRate      Calm  \\\n",
      "0            p1  5.845226      5.147909  5.043890      4.865590  5.351075   \n",
      "1            p3  5.549829      5.621231  5.601586      5.016286  4.476537   \n",
      "2            p4  5.324136      4.392736  4.261343      4.738000  5.065190   \n",
      "3            p5  6.322086      4.695523  4.707062      4.927181  6.130488   \n",
      "4            p6  5.619420      4.261988  4.648259      4.174891  5.828977   \n",
      "..          ...       ...           ...       ...           ...       ...   \n",
      "113        pp60  5.333507      5.273133  5.601586      4.493992  4.218616   \n",
      "114        pp61  5.955077      4.333459  4.373469      4.787316  5.592687   \n",
      "115        pp62  5.494411      4.521044  4.389645      4.093244  5.901951   \n",
      "116        pp63  5.749179      3.986645  4.187087      4.478401  5.866000   \n",
      "117        pp64  5.906803      5.131969  5.451478      4.982963  5.505511   \n",
      "\n",
      "     StructuredAnswers    Paused  NoFillers  Friendly  \n",
      "0             4.891580  5.800468   3.771665  5.254784  \n",
      "1             3.912199  4.791550   3.332458  6.500329  \n",
      "2             4.688379  5.177447   3.111445  5.369884  \n",
      "3             5.582514  5.886326   5.881741  5.649119  \n",
      "4             4.826245  5.027823   3.920329  4.495375  \n",
      "..                 ...       ...        ...       ...  \n",
      "113           4.008191  5.027744   3.649506  6.186582  \n",
      "114           5.070017  5.667805   4.521353  4.211878  \n",
      "115           4.582447  5.179546   4.076744  5.108286  \n",
      "116           4.133780  5.778896   3.726108  5.444156  \n",
      "117           4.894163  4.909684   4.221861  4.266482  \n",
      "\n",
      "[82 rows x 10 columns]\n"
     ]
    }
   ],
   "source": [
    "import pandas as pd\n",
    "\n",
    "input_data = pd.read_csv('audioCues.csv')\n",
    "output_data = pd.read_csv('labels.csv')\n",
    "\n",
    "input_data['Participant'] = input_data['Video Name'].apply(lambda x: x.split('\\\\')[-1].split('.')[0].lower())\n",
    "\n",
    "output_data['Participant'] = output_data['Participant'].str.lower()\n",
    "\n",
    "matched_output_data = output_data[output_data['Participant'].isin(input_data['Participant'])]\n",
    "\n",
    "print(matched_output_data)\n",
    "\n",
    "matched_output_data.to_csv('matched_labels.csv', index=False)\n"
   ]
  },
  {
   "cell_type": "code",
   "execution_count": null,
   "metadata": {},
   "outputs": [],
   "source": [
    "# import pandas as pd\n",
    "# from sklearn.model_selection import train_test_split\n",
    "# from sklearn.svm import SVR\n",
    "# from sklearn.preprocessing import StandardScaler\n",
    "# from sklearn.pipeline import make_pipeline\n",
    "\n",
    "# # Load the input data (features)\n",
    "# input_data = pd.read_csv('audioCues.csv')\n",
    "\n",
    "# # Load the output data (target values)\n",
    "# output_data = pd.read_csv('matched_labels.csv')\n",
    "\n",
    "# # Extract filename from 'Video Name' and convert to lowercase\n",
    "# input_data['Filename'] = input_data['Video Name'].apply(lambda x: x.split('\\\\')[-1].lower())\n",
    "# output_data['Filename'] = output_data['Participant'].apply(lambda x: x.lower()) + '.wav'  # Assuming filenames in output_data are in the format: participant_name.wav\n",
    "\n",
    "# # Drop 'Video Name' column and the first column from input_data\n",
    "# input_data = input_data.drop(columns=['Video Name', input_data.columns[0]])\n",
    "\n",
    "# # Drop 'Participant' column from output_data after adding 'Filename'\n",
    "# output_data['Filename'] = output_data['Participant'].apply(lambda x: x.lower()) + '.wav'  # Assuming filenames in output_data are in the format: participant_name.wav\n",
    "# output_data = output_data.drop(columns=['Participant'])\n",
    "\n",
    "# print(input_data)\n",
    "# print(output_data)\n",
    "\n",
    "# # Merge datasets based on 'Filename' column\n",
    "# merged_data = pd.merge(input_data, output_data, on='Filename')\n",
    "\n",
    "# # Extract target values (y) and remove unnecessary columns\n",
    "# y = merged_data[['Focused', 'EngagingTone', 'Excited', 'SpeakingRate', 'Calm', 'StructuredAnswers', 'Paused', 'NoFillers', 'Friendly']]\n",
    "\n",
    "# # Extract input features (X) and remove 'Video Name', 'Filename', and 'Participant' columns\n",
    "# X = merged_data.drop(['Filename'], axis=1)\n",
    "\n",
    "# # Split the merged dataset into training and testing sets\n",
    "# X_train, X_test, y_train, y_test = train_test_split(X, y, test_size=0.2, random_state=42)\n",
    "\n",
    "# # Initialize SVR model with suitable parameters\n",
    "# svr_model = make_pipeline(StandardScaler(), SVR(C=1.0, epsilon=0.2))\n",
    "\n",
    "# # Train the SVR model\n",
    "# svr_model.fit(X_train, y_train)\n",
    "\n",
    "# # Evaluate the model\n",
    "# train_score = svr_model.score(X_train, y_train)\n",
    "# test_score = svr_model.score(X_test, y_test)\n",
    "\n",
    "# print(\"Training Score:\", train_score)\n",
    "# print(\"Testing Score:\", test_score)\n"
   ]
  },
  {
   "cell_type": "code",
   "execution_count": 8,
   "metadata": {},
   "outputs": [
    {
     "name": "stdout",
     "output_type": "stream",
     "text": [
      "Participant: p1, Vector: [5.84522637357 5.14790937729 5.04389015411 4.86558979541 5.35107543307\n",
      " 4.89158004615 5.80046790524 3.77166473066 5.25478355985]\n",
      "Participant: p3, Vector: [5.54982872237 5.62123092399 5.60158567429 5.01628608696 4.47653726578\n",
      " 3.9121988684 4.79154954828 3.33245849049 6.50032877227]\n",
      "Participant: p4, Vector: [5.3241358317 4.39273648876 4.26134323401 4.73800014854 5.06519019504\n",
      " 4.68837924196 5.17744701629 3.11144466161 5.36988386167]\n",
      "Participant: p5, Vector: [6.32208591415 4.69552295169 4.70706218787 4.92718068841 6.13048798847\n",
      " 5.58251442294 5.88632626708 5.88174118567 5.64911869128]\n",
      "Participant: p6, Vector: [5.61942047508 4.26198846721 4.64825935206 4.17489068485 5.8289772252\n",
      " 4.82624462496 5.02782250409 3.92032941437 4.49537499283]\n",
      "Participant: p7, Vector: [6.19747572924 4.94138360782 4.88604973191 4.91447854325 6.00791295588\n",
      " 5.57242669885 6.04631607177 5.92916127869 5.50456862011]\n",
      "Participant: p8, Vector: [5.8237382037 4.15706890643 4.23397310045 4.45332435259 5.66272840945\n",
      " 4.57497972608 5.50466433262 2.64427783107 4.99635315525]\n",
      "Participant: p10, Vector: [5.26788560368 4.81910736874 4.38394688919 4.77536873711 4.44518500869\n",
      " 3.57596013125 5.61490949295 2.77818282683 5.74780274004]\n",
      "Participant: p11, Vector: [5.71777581176 4.42675262945 4.29776047319 4.89546144859 5.0290858603\n",
      " 4.81446592015 5.81959031851 3.24042620255 4.4623063693]\n",
      "Participant: p12, Vector: [5.46458442867 5.4523864256 5.32252595511 5.24607811749 5.20262948752\n",
      " 4.3189479661 5.40596577758 4.96411231054 6.36301290995]\n",
      "Participant: p62, Vector: [5.14427567089 4.73650991358 4.66673171724 4.36858845447 5.28184005483\n",
      " 3.9826335406 5.54722887961 4.07067578913 5.09237911379]\n",
      "Participant: p63, Vector: [5.46177237209 4.31123851715 3.90942489936 4.05348209032 5.49375970915\n",
      " 3.76316841209 5.40549448169 3.3480232258 5.15654832891]\n",
      "Participant: p64, Vector: [5.53425605295 4.141321624 4.3888214582 4.82550165163 5.9596641469\n",
      " 3.69357836245 3.47721024205 4.45544507465 4.31347713723]\n",
      "Participant: p65, Vector: [5.61512899062 4.99971598947 4.53060123974 4.30303347658 6.25781388858\n",
      " 4.63501493131 5.31094011898 4.03039648042 5.35568340533]\n",
      "Participant: p66, Vector: [5.31157899109 5.02227797129 6.2141565891 5.48385652592 5.47987536941\n",
      " 4.51540977032 4.9450856006 2.52017711215 5.60937461722]\n",
      "Participant: p67, Vector: [5.93363465083 6.11673825755 5.7368392955 4.92479784023 5.75620281651\n",
      " 4.43546976733 4.83959782896 4.20432537602 5.46545664091]\n",
      "Participant: p69, Vector: [4.2607121295 2.57476913898 3.12548133767 3.28791212995 6.1047731091\n",
      " 4.0394536969 6.07561962461 3.81650931336 4.01396863511]\n",
      "Participant: p70, Vector: [5.20988091865 3.95889757641 5.26686619691 4.49323633813 3.87680098073\n",
      " 5.08800063289 6.1818978556 4.58583311128 5.84817494339]\n",
      "Participant: p71, Vector: [5.55900758443 4.33945671514 4.51357622051 4.98071639371 5.03445911625\n",
      " 4.72711816786 5.24214913249 4.12803108401 5.89894079967]\n",
      "Participant: p72, Vector: [5.80444517752 4.46757143232 4.03536729622 4.69213699737 4.66205485593\n",
      " 4.76919910459 5.72766338027 3.56543898623 4.7531530464]\n",
      "Participant: p73, Vector: [5.80650741863 5.20198092437 5.02620075772 5.08078880667 6.09189739556\n",
      " 5.50660377243 5.32596353287 5.8199866881 5.87249827675]\n",
      "Participant: p74, Vector: [5.60975410779 4.20457727668 4.5719662824 4.97720019597 5.64994390774\n",
      " 4.64128690398 5.79684105134 5.12217032282 5.39940836233]\n",
      "Participant: p76, Vector: [6.16838343318 5.32815514847 4.95210301001 4.81149020615 6.65413489069\n",
      " 5.53431847292 6.22692242757 6.2481450674 5.35486234899]\n",
      "Participant: p77, Vector: [5.34373011446 5.04403205584 5.0684564842 5.00651856578 5.8994254525\n",
      " 4.74113323385 6.28962198841 3.70303430915 5.2721860111]\n",
      "Participant: p78, Vector: [5.3932381227 4.12014581192 4.87405749468 4.47908460956 4.80321754184\n",
      " 4.32581402037 5.71268617099 5.36451738309 5.29175365885]\n",
      "Participant: p79, Vector: [5.29094368833 5.03357609973 5.5047386594 5.04899580341 4.58222379238\n",
      " 3.79439931967 4.9884801945 4.09771465943 6.50081710451]\n",
      "Participant: p80, Vector: [5.63548254177 5.51372021512 5.28722854802 5.1046814048 5.61660066264\n",
      " 3.76562654207 5.53404859109 5.03461389739 6.16352077699]\n",
      "Participant: p81, Vector: [5.71477411164 5.21116141331 4.90786786953 4.56986662995 5.63567827507\n",
      " 5.46399215651 5.39465410323 3.88038137961 5.60309079617]\n",
      "Participant: p83, Vector: [5.91981245352 5.91289572283 6.07237803909 4.92479784023 5.30453986363\n",
      " 5.37244412606 6.30984737567 4.41832716622 6.56263386472]\n",
      "Participant: p84, Vector: [6.13712525857 6.07671236792 5.74806391498 4.95266403677 5.52459319386\n",
      " 5.51848839033 5.9541839413 4.53483256915 6.60379494668]\n",
      "Participant: p85, Vector: [5.71085908107 4.18887152001 5.1590873908 4.85419639407 4.97716728861\n",
      " 4.37642746289 4.96039937388 3.7069987238 5.52960645867]\n",
      "Participant: p86, Vector: [5.00418910267 5.35606102632 5.24584067598 4.92152637072 5.22898627567\n",
      " 3.24920388012 5.65432133432 3.76396816111 6.09577253947]\n",
      "Participant: p89, Vector: [4.95421908822 4.61729418711 3.85341413998 4.70436996571 5.49461135695\n",
      " 3.14449073711 5.24355771485 3.6965122358 5.44808308358]\n",
      "Participant: pp1, Vector: [5.87442230708 4.38725089468 4.22309947297 5.15755170286 5.91336578718\n",
      " 5.14580135722 5.94529202437 4.54648141875 4.33672034691]\n",
      "Participant: pp3, Vector: [5.52450850636 5.48334742441 5.89438860005 4.73119185588 5.2964504327\n",
      " 4.26777504976 4.80479635848 3.98185116529 6.4412252702]\n",
      "Participant: pp4, Vector: [5.40571501276 5.05492149733 5.5639432533 4.75610540662 4.80916904332\n",
      " 4.42848254782 5.14376084335 3.4213325727 5.57474318604]\n",
      "Participant: pp5, Vector: [6.2597808217 4.81992672201 4.88960961036 4.77527695183 5.93280584464\n",
      " 5.4271945507 6.18959149054 5.54335619878 5.65274497157]\n",
      "Participant: pp6, Vector: [5.45453980235 2.34234890222 3.38885661114 4.24564731784 5.28023803019\n",
      " 4.39897096422 4.43525093313 3.55508561879 3.39458815516]\n",
      "Participant: pp7, Vector: [6.13581586999 5.28492643692 5.25718446938 5.21426709239 5.50735825183\n",
      " 5.38627905146 6.10304026215 5.996112641 5.24739996472]\n",
      "Participant: pp8, Vector: [6.04246801665 4.70188853482 4.14384305604 4.86765381989 5.83932963244\n",
      " 4.98336118463 5.81101424064 2.44644968934 4.34221826456]\n",
      "Participant: pp10, Vector: [5.30224883835 4.36088539963 4.86662689508 4.54939995188 5.10196911668\n",
      " 4.16198686326 5.26672814384 1.71108729165 4.70548582512]\n",
      "Participant: pp11, Vector: [5.94954998278 5.55037114512 4.81586040075 5.00564796629 5.26714385237\n",
      " 5.65383731953 6.35161124181 4.44347345714 5.30613449428]\n",
      "Participant: pp12, Vector: [5.76206421575 5.0800839976 5.04697483866 5.17556654474 5.12008565085\n",
      " 5.2092662769 6.0996045856 4.70619991405 6.03311748841]\n",
      "Participant: pp13, Vector: [5.50384497935 2.74396947155 3.41512086304 4.31410610842 5.09733412477\n",
      " 4.56058517871 6.32825795892 4.68970797264 3.71637526661]\n",
      "Participant: pp14, Vector: [6.30683864478 6.20526467218 5.87726145244 5.40331120354 5.63264672082\n",
      " 5.90207890505 5.92193874148 6.03985252038 6.39995241196]\n",
      "Participant: pp15, Vector: [5.18848519214 3.73476644613 4.13475256088 4.03751462017 4.80808558652\n",
      " 3.77148901234 5.15224331077 3.15028052238 5.19951210392]\n",
      "Participant: pp16, Vector: [5.73773509538 5.77336936576 4.83846612708 4.72327342891 5.78512932197\n",
      " 4.23095320879 5.02860840749 3.94910994181 5.57532599926]\n",
      "Participant: pp17, Vector: [5.91391571239 5.38770854578 5.12230560453 4.82119120769 5.31374761961\n",
      " 4.92906556617 6.02075351649 4.38928726314 6.13791116197]\n",
      "Participant: pp20, Vector: [4.44024298474 3.92663067631 3.69766798826 4.60522808916 4.56701583607\n",
      " 3.89837257493 5.66325026775 3.79767328317 5.27171888136]\n",
      "Participant: pp21, Vector: [5.75684575869 5.03819650315 5.01908764498 4.51768071206 5.59542775822\n",
      " 4.95088370379 6.00510089931 2.67465668633 5.68968617665]\n",
      "Participant: pp22, Vector: [5.86852556595 4.56826363168 4.49477029504 4.37715459886 5.74401068903\n",
      " 5.34692631635 5.93632857606 5.47764667552 4.56068110334]\n",
      "Participant: pp24, Vector: [6.15237252794 6.10149098818 5.68979624986 4.89546144859 5.68674045923\n",
      " 5.72629711152 6.21013271686 5.78971790605 6.49574141972]\n",
      "Participant: pp25, Vector: [5.18535019858 4.99735249178 5.0785281993 4.58265137408 4.77683516175\n",
      " 5.12695700394 5.05544831246 2.51533208581 5.71378121086]\n",
      "Participant: pp27, Vector: [5.43605445014 4.58375893765 4.25474234237 4.11125856462 5.73700280731\n",
      " 5.13232208775 5.2669665851 5.16571007843 5.45308034543]\n",
      "Participant: pp29, Vector: [5.62296377095 5.42016179024 4.84387698986 4.74918923243 5.32503448397\n",
      " 5.6188688468 5.77897916176 3.47308052547 5.66237012138]\n",
      "Participant: pp30, Vector: [4.87796011201 3.17099152906 3.82418987995 4.27031717741 4.01748401519\n",
      " 3.14649821165 6.2604260549 4.70900203221 4.933547407]\n",
      "Participant: pp31, Vector: [5.47623373806 5.47005875869 5.49574141972 4.99961985692 4.93685558331\n",
      " 4.16855528833 5.38891300458 3.83638684962 5.24699461691]\n",
      "Participant: pp32, Vector: [5.67489383873 5.48126251436 6.10891709955 4.83823651544 4.39372903256\n",
      " 5.35450601117 5.04606489067 4.66548697723 6.11468987879]\n",
      "Participant: pp33, Vector: [6.47983415193 6.49179930037 6.44792658715 4.7918713303 5.13887223422\n",
      " 5.29600706178 5.81512594551 5.00000123154 6.7946523434]\n",
      "Participant: pp34, Vector: [5.58293788131 4.99993528346 5.59283916177 4.98986152203 4.41897763696\n",
      " 5.2122136212 5.30609586007 4.05370904362 5.65031865856]\n",
      "Participant: pp35, Vector: [6.01440727546 5.44924829929 5.35490812796 4.81782795291 5.29151419022\n",
      " 5.73025318131 6.13072104124 4.91283453439 6.02722074728]\n",
      "Participant: pp37, Vector: [5.94702487133 5.72442179476 5.41453388368 5.09778269594 5.15282488023\n",
      " 5.39724331077 6.04500668319 5.00916115602 6.0884434302]\n",
      "Participant: pp42, Vector: [6.25792983737 5.52699959434 5.20132255283 4.89546144859 5.99435402369\n",
      " 5.78039323506 6.08395849275 6.28709687697 4.62200556332]\n",
      "Participant: pp43, Vector: [6.05234932614 5.16233559032 5.0018922018 4.88313546047 5.74617751241\n",
      " 5.64187217109 6.51283153459 4.57394270017 5.70059863648]\n",
      "Participant: pp44, Vector: [5.58591249265 4.24373353799 3.90723722481 3.63257273786 6.14843040859\n",
      " 4.86738743902 5.84120126979 4.35968019481 5.06849873507]\n",
      "Participant: pp45, Vector: [6.01142109881 5.59511191916 5.25152370644 4.7397760221 4.83338297315\n",
      " 5.17790702821 5.0970812793 5.66082144242 4.96345393298]\n",
      "Participant: pp47, Vector: [4.65483022031 3.64773832077 3.6833520267 4.20934072547 4.43413395344\n",
      " 4.88189890141 5.89737676649 4.08654429333 4.47669743541]\n",
      "Participant: pp48, Vector: [4.64934112355 3.02951716106 2.94785499557 4.22012919927 5.20581459739\n",
      " 3.70517243394 5.35768380608 4.22628231791 4.41060253529]\n",
      "Participant: pp49, Vector: [6.046410136 4.635598874 4.8336393059 4.03415136539 5.99988992679\n",
      " 3.60251698209 4.85571625109 5.47611503292 5.08737228473]\n",
      "Participant: pp50, Vector: [6.42555208856 5.40524807197 4.84964368682 4.57824655502 6.4418705034\n",
      " 5.60457267794 5.9102430211 6.24715397176 4.34872671283]\n",
      "Participant: pp52, Vector: [5.21509482577 3.01138233522 3.30791272485 4.43135461213 5.74609575951\n",
      " 3.4167546091 5.62228728884 4.1873264182 4.68299080403]\n",
      "Participant: pp53, Vector: [6.01485677536 5.46113064156 5.5999828715 5.40031469684 5.42729906422\n",
      " 4.72087043474 4.63246739501 2.27251605954 5.35525455847]\n",
      "Participant: pp55, Vector: [5.84128425422 4.89663746304 4.79514067564 4.81782795291 6.28930614936\n",
      " 5.5121846745 5.96485446638 5.13078924822 5.92726867235]\n",
      "Participant: pp56, Vector: [5.42235049818 3.90828839932 4.22268832593 4.28361096637 5.04762585886\n",
      " 4.89659331096 5.87070594442 4.2330270152 4.60846631705]\n",
      "Participant: pp57, Vector: [6.72840513159 6.02213397667 6.27306948742 4.57473294712 6.16225260589\n",
      " 6.42801315315 6.25200855742 6.19658287619 6.46304340782]\n",
      "Participant: pp58, Vector: [6.02196923935 4.1801127924 4.62066574061 4.27403775482 5.20570349078\n",
      " 4.96176767423 5.94123176766 5.3324276401 6.52345629847]\n",
      "Participant: pp59, Vector: [6.14987631041 6.13901746037 6.52391736367 5.06018569988 5.39850195419\n",
      " 4.80223590513 5.4839458568 4.99416567885 6.38481691887]\n",
      "Participant: pp60, Vector: [5.33350701296 5.27313295466 5.60158567429 4.49399235509 4.21861615639\n",
      " 4.00819070739 5.02774377267 3.64950632066 6.18658172626]\n",
      "Participant: pp61, Vector: [5.95507679435 4.33345879044 4.37346867711 4.78731615811 5.59268723303\n",
      " 5.07001699529 5.66780476994 4.52135283988 4.21187770272]\n",
      "Participant: pp62, Vector: [5.49441146669 4.5210439359 4.3896451902 4.09324372274 5.90195056395\n",
      " 4.58244744147 5.17954563269 4.07674419644 5.10828638159]\n",
      "Participant: pp63, Vector: [5.74917921253 3.98664493244 4.18708694355 4.47840118048 5.86600045451\n",
      " 4.13378031313 5.77889617733 3.72610758198 5.44415572945]\n",
      "Participant: pp64, Vector: [5.90680324839 5.13196864187 5.45147754264 4.98296281317 5.50551142447\n",
      " 4.89416284336 4.90968370693 4.22186091451 4.26648173412]\n"
     ]
    }
   ],
   "source": [
    "import pandas as pd\n",
    "\n",
    "# Read participant data from the CSV file\n",
    "participant_data = pd.read_csv('matched_labels.csv')\n",
    "\n",
    "# Convert participant data into vectors\n",
    "participant_vectors = {}\n",
    "for index, row in participant_data.iterrows():\n",
    "    participant = row['Participant']\n",
    "    vector = row.drop('Participant').values\n",
    "    participant_vectors[participant] = vector\n",
    "\n",
    "# Display participant vectors\n",
    "for participant, vector in participant_vectors.items():\n",
    "    print(f\"Participant: {participant}, Vector: {vector}\")\n"
   ]
  },
  {
   "cell_type": "code",
   "execution_count": 11,
   "metadata": {},
   "outputs": [
    {
     "name": "stdout",
     "output_type": "stream",
     "text": [
      "        Length  Average Band Energy  Avg Intensity  Max Intensity  \\\n",
      "0   240.000000             0.029007      54.842035      72.249658   \n",
      "1   298.500000             0.044217      55.724548      69.922859   \n",
      "2   285.800000             0.029588      54.169924      70.591093   \n",
      "3   278.529977             0.008429      48.832036      64.578172   \n",
      "4   261.300000             0.036603      55.484288      72.132899   \n",
      "..         ...                  ...            ...            ...   \n",
      "77  287.740000             0.031763      54.440034      73.046911   \n",
      "78  186.040000             0.008237      50.477541      67.937445   \n",
      "79  217.180000             0.006677      48.894119      67.150116   \n",
      "80  245.830000             0.043923      56.535718      70.428476   \n",
      "81  198.970000             0.009309      50.716226      67.068601   \n",
      "\n",
      "    Mean Intensity  Range Intensity  SD Intensity   Avg Pitch   Max Pitch  \\\n",
      "0        22.759524        49.490134      7.223555  201.371427  587.015130   \n",
      "1        27.196866        42.725993      7.891036  123.769549  598.220223   \n",
      "2      -300.000000       370.591093     13.448148  118.443440  598.848230   \n",
      "3        31.893625        32.684547      5.395295  130.391408  597.712618   \n",
      "4        29.365787        42.767112      6.606619  140.412026  598.802392   \n",
      "..             ...              ...           ...         ...         ...   \n",
      "77     -300.000000       373.046911     24.269194  159.065922  579.611623   \n",
      "78     -300.000000       367.937445     29.804932  180.945867  575.767143   \n",
      "79     -300.000000       367.150116     27.273363  202.728352  596.303738   \n",
      "80     -300.000000       370.428476     26.287968  193.925651  595.039623   \n",
      "81     -300.000000       367.068601     28.401619  205.761926  596.256137   \n",
      "\n",
      "    Mean Pitch  ...     Mean B2     Mean B3       SD F1       SD F2  \\\n",
      "0    75.163673  ...  628.184573  599.338572  348.719429  451.346181   \n",
      "1    74.961262  ...  615.253489  698.567680  333.742103  419.138895   \n",
      "2    75.021242  ...  612.784917  699.586006  420.183917  448.710930   \n",
      "3    74.978017  ...  567.075528  756.066657  391.867484  425.844356   \n",
      "4    75.011131  ...  656.883261  812.547308  356.867194  439.286412   \n",
      "..         ...  ...         ...         ...         ...         ...   \n",
      "77   75.002551  ...  522.114661  604.048898  317.197942  377.459778   \n",
      "78   75.061541  ...  655.101521  712.995970  303.656789  390.239399   \n",
      "79   75.273756  ...  626.183296  702.228650  376.520596  373.011650   \n",
      "80   75.023331  ...  641.771988  702.228650  291.201321  384.597135   \n",
      "81   75.011170  ...  704.968216  702.228650  373.028849  381.672846   \n",
      "\n",
      "         SD F3  Mean F2/F1  Mean F3/F1  SD F2/F1  SD F3/F1  Participant  \n",
      "0   418.314294    3.075157    4.828483  1.647816  2.478496          p62  \n",
      "1   436.137929    3.391229    5.429004  1.629095  2.384618          p65  \n",
      "2   528.379534    3.287498    5.098002  1.890987  2.927010          p64  \n",
      "3   497.143017    3.144205    5.338896  1.672902  2.767527          p63  \n",
      "4   465.906500    3.413637    5.579790  1.734121  2.608044          p66  \n",
      "..         ...         ...         ...       ...       ...          ...  \n",
      "77  417.992260    3.620268    5.779166  1.629679  2.515061         pp53  \n",
      "78  440.906036    3.029349    4.753644  1.217353  1.813600         pp55  \n",
      "79  431.337990    3.379995    5.352035  1.664923  2.641342         pp56  \n",
      "80  431.337990    3.460182    5.352035  1.742122  2.641342         pp57  \n",
      "81  431.337990    3.422587    5.352035  1.932632  2.641342         pp58  \n",
      "\n",
      "[82 rows x 26 columns]\n"
     ]
    }
   ],
   "source": [
    "import pandas as pd\n",
    "\n",
    "audio_data = pd.read_csv('audioCues.csv')\n",
    "\n",
    "audio_data['Participant'] = audio_data['Video Name'].apply(lambda x: x.split('\\\\')[-1].replace('.wav', '').lower())\n",
    "\n",
    "audio_data = audio_data.drop(columns=['Video Name', audio_data.columns[0]])\n",
    "\n",
    "audio_data_interpolated = audio_data.interpolate()\n",
    "\n",
    "print(audio_data_interpolated)\n"
   ]
  },
  {
   "cell_type": "code",
   "execution_count": 12,
   "metadata": {},
   "outputs": [],
   "source": [
    "audio_data_interpolated.to_csv('input.csv', index=False)"
   ]
  },
  {
   "cell_type": "code",
   "execution_count": 13,
   "metadata": {},
   "outputs": [
    {
     "name": "stdout",
     "output_type": "stream",
     "text": [
      "Data saved to train.csv\n"
     ]
    }
   ],
   "source": [
    "import pandas as pd\n",
    "\n",
    "input_df = pd.read_csv('input.csv')\n",
    "labels_df = pd.read_csv('matched_labels.csv')\n",
    "\n",
    "combined_df = pd.merge(input_df, labels_df, on='Participant')\n",
    "\n",
    "combined_df.to_csv('train.csv', index=False)\n",
    "\n",
    "print(\"Data saved to train.csv\")\n"
   ]
  },
  {
   "cell_type": "code",
   "execution_count": 14,
   "metadata": {},
   "outputs": [
    {
     "name": "stdout",
     "output_type": "stream",
     "text": [
      "Mean Squared Error for Focused: 0.15813914192476586\n",
      "Mean Squared Error for EngagingTone: 0.22732047386654672\n",
      "Mean Squared Error for Excited: 0.44767567175239925\n",
      "Mean Squared Error for SpeakingRate: 0.1383039131067143\n",
      "Mean Squared Error for Calm: 0.4340190470234886\n",
      "Mean Squared Error for StructuredAnswers: 0.48398566779233887\n",
      "Mean Squared Error for Paused: 0.17009108992615615\n",
      "Mean Squared Error for NoFillers: 1.77815081843239\n",
      "Mean Squared Error for Friendly: 0.3718672352585985\n",
      "Overall Mean Squared Error: 0.46772811767593314\n"
     ]
    }
   ],
   "source": [
    "import pandas as pd\n",
    "from sklearn.model_selection import train_test_split\n",
    "from sklearn.preprocessing import StandardScaler\n",
    "from sklearn.svm import SVR\n",
    "from sklearn.metrics import mean_squared_error\n",
    "from joblib import dump\n",
    "\n",
    "data = pd.read_csv('train.csv')\n",
    "\n",
    "X = data.drop(columns=['Participant', 'Focused', 'EngagingTone', 'Excited', 'SpeakingRate', 'Calm', 'StructuredAnswers', 'Paused', 'NoFillers', 'Friendly'])\n",
    "y = data[['Focused', 'EngagingTone', 'Excited', 'SpeakingRate', 'Calm', 'StructuredAnswers', 'Paused', 'NoFillers', 'Friendly']]\n",
    "\n",
    "X_train, X_test, y_train, y_test = train_test_split(X, y, test_size=0.2, random_state=42)\n",
    "\n",
    "scaler = StandardScaler()\n",
    "X_train_scaled = scaler.fit_transform(X_train)\n",
    "X_test_scaled = scaler.transform(X_test)\n",
    "\n",
    "dump(scaler, \"scaler.joblib\")\n",
    "\n",
    "models = {}\n",
    "y_preds = {}\n",
    "mses = {}\n",
    "\n",
    "for column in y_train.columns:\n",
    "    model = SVR(kernel='rbf')\n",
    "    model.fit(X_train_scaled, y_train[column])\n",
    "    models[column] = model\n",
    "    \n",
    "    dump(model, f\"{column}_model.joblib\")\n",
    "    \n",
    "    y_pred = model.predict(X_test_scaled)\n",
    "    y_preds[column] = y_pred\n",
    "    \n",
    "    mse = mean_squared_error(y_test[column], y_pred)\n",
    "    mses[column] = mse\n",
    "    print(f\"Mean Squared Error for {column}: {mse}\")\n",
    "\n",
    "# Overall Mean Squared Error\n",
    "overall_mse = sum(mses.values()) / len(mses)\n",
    "print(\"Overall Mean Squared Error:\", overall_mse)\n"
   ]
  },
  {
   "cell_type": "code",
   "execution_count": 5,
   "metadata": {},
   "outputs": [
    {
     "name": "stdout",
     "output_type": "stream",
     "text": [
      "Starting Audio analysis\n",
      "Analyzing audio file: E:/Videos/EditedVideos/VHA-Interview/Audios/P63.wav\n",
      "[278.52997732426303, 0.008428870744538393, 48.83203632863392, 64.57817206814136, 31.89362548221409, 32.684546585927265, 5.395295316784023, 130.39140838092655, 597.712617595605, 74.97801700759291, 522.7346005880121, 115.8888889905572, 721.951356881005, 1846.9013913478852, 0, 580.0397766156003, 567.0755284519188, 0, 391.8674838509295, 425.8443563124456, 0, 3.144205317140231, 0, 1.6729024612250905, 0]\n"
     ]
    }
   ],
   "source": [
    "import parselmouth as pm\n",
    "\n",
    "def audio_file_analysis(audio_file):\n",
    "    print(\"Starting Audio analysis\")\n",
    "    global audio_row \n",
    "    audio_row = []\n",
    "    data = []\n",
    "    try:\n",
    "        sound = pm.Sound(audio_file)\n",
    "        print(f\"Analyzing audio file: {audio_file}\")\n",
    "        #audio_row.append(audio_file)\n",
    "        end_time = sound.get_total_duration()\n",
    "        audio_row.append(end_time)\n",
    "        amplitude(sound)\n",
    "        spectrum(sound)\n",
    "        intensity(sound)\n",
    "        pitch(sound)\n",
    "        formant(sound)\n",
    "        audio_row = [0 if pd.isna(value) else value for value in audio_row]\n",
    "        data.append(audio_row)\n",
    "        print(audio_row)\n",
    "        return audio_row\n",
    "    except Exception as e:\n",
    "        print(f\"Error analyzing audio file: {audio_file}\")\n",
    "        print(e)\n",
    "\n",
    "# Example usage:\n",
    "audio_file_path = \"E:/Videos/EditedVideos/VHA-Interview/Audios/P63.wav\"  # Replace with your audio file path\n",
    "new_input = audio_file_analysis(audio_file_path)"
   ]
  },
  {
   "cell_type": "code",
   "execution_count": 6,
   "metadata": {},
   "outputs": [],
   "source": [
    "\n",
    "\n",
    "from joblib import load\n",
    "\n",
    "def loadVideoModels():\n",
    "    # Dictionary to store loaded SVR models\n",
    "    models = {}\n",
    "\n",
    "    # List of target variable names\n",
    "    target_variables = ['Focused', 'EngagingTone', 'Excited', 'SpeakingRate', 'Calm', 'StructuredAnswers', 'Paused', 'NoFillers', 'Friendly']\n",
    "\n",
    "    # Load the saved SVR models\n",
    "    for column in target_variables:\n",
    "        model = load(f\"{column}_model.joblib\")\n",
    "        models[column] = model\n",
    "        \n",
    "    return models\n"
   ]
  },
  {
   "cell_type": "code",
   "execution_count": null,
   "metadata": {},
   "outputs": [],
   "source": [
    "# # # Assuming 'models' contains the trained SVR models for each target variable\n",
    "\n",
    "# # Make sure 'new_input' is scaled using the same scaler used for training the models\n",
    "# new_input_scaled = scaler.transform([new_input])  # Assuming 'new_input' is a list of features\n",
    "\n",
    "# # Dictionary to store predicted values for each target variable\n",
    "# predicted_values = {}\n",
    "\n",
    "# # Iterate over each target variable and predict its value using the corresponding SVR model\n",
    "# for column, model in models.items():\n",
    "#     # Predict the value for the current target variable\n",
    "#     predicted_value = model.predict(new_input_scaled)\n",
    "#     predicted_values[column] = predicted_value\n",
    "\n",
    "# # Print the predicted values\n",
    "# for column, value in predicted_values.items():\n",
    "#     print(f\"Predicted {column}: {value}\")\n"
   ]
  },
  {
   "cell_type": "code",
   "execution_count": 7,
   "metadata": {},
   "outputs": [
    {
     "name": "stdout",
     "output_type": "stream",
     "text": [
      "Starting Audio analysis\n",
      "Analyzing audio file: E:/Videos/EditedVideos/VHA-Interview/Audios/P63.wav\n",
      "[278.52997732426303, 0.008428870744538393, 48.83203632863392, 64.57817206814136, 31.89362548221409, 32.684546585927265, 5.395295316784023, 130.39140838092655, 597.712617595605, 74.97801700759291, 522.7346005880121, 115.8888889905572, 721.951356881005, 1846.9013913478852, 0, 580.0397766156003, 567.0755284519188, 0, 391.8674838509295, 425.8443563124456, 0, 3.144205317140231, 0, 1.6729024612250905, 0]\n",
      "Predicted Focused: [4.09]\n",
      "Predicted EngagingTone: [3.53]\n",
      "Predicted Excited: [3.55]\n",
      "Predicted SpeakingRate: [3.51]\n",
      "Predicted Calm: [3.88]\n",
      "Predicted StructuredAnswers: [3.52]\n",
      "Predicted Paused: [4.04]\n",
      "Predicted NoFillers: [3.21]\n",
      "Predicted Friendly: [3.92]\n"
     ]
    },
    {
     "name": "stderr",
     "output_type": "stream",
     "text": [
      "c:\\Users\\Lenovo\\AppData\\Local\\Programs\\Python\\Python312\\Lib\\site-packages\\sklearn\\base.py:465: UserWarning: X does not have valid feature names, but StandardScaler was fitted with feature names\n",
      "  warnings.warn(\n",
      "c:\\Users\\Lenovo\\AppData\\Local\\Programs\\Python\\Python312\\Lib\\site-packages\\sklearn\\base.py:465: UserWarning: X does not have valid feature names, but StandardScaler was fitted with feature names\n",
      "  warnings.warn(\n"
     ]
    }
   ],
   "source": [
    "# Assuming 'models' contains the trained SVR models for each target variable\n",
    "\n",
    "def predictVideaTraits(audio_file_path):\n",
    "    models = loadVideoModels()\n",
    "    scaler = load(\"scaler.joblib\")\n",
    "    new_input = audio_file_analysis(audio_file_path)\n",
    "    new_input_scaled = scaler.transform([new_input])\n",
    "# Make sure 'new_input' is scaled using the same scaler used for training the models\n",
    "    new_input_scaled = scaler.transform([new_input])  # Assuming 'new_input' is a list of features\n",
    "\n",
    "    # Dictionary to store predicted values for each target variable\n",
    "    predicted_values = {}\n",
    "    \n",
    "    # Iterate over each target variable and predict its value using the corresponding SVR model\n",
    "    for column, model in models.items():\n",
    "        # Predict the value for the current target variable\n",
    "        predicted_value = model.predict(new_input_scaled)\n",
    "        # Scale the predicted value\n",
    "        scaled_value = scale_prediction(predicted_value)\n",
    "        predicted_values[column] = scaled_value\n",
    "\n",
    "    # Print the predicted values\n",
    "    for column, value in predicted_values.items():\n",
    "        print(f\"Predicted {column}: {value}\")\n",
    "\n",
    "# Define the scaling function\n",
    "def scale_prediction(prediction):\n",
    "    # Scale from 1-7 to 1-5\n",
    "    return np.round(((prediction - 1) * (5 - 1) / (7 - 1)) + 1, 2)\n",
    "\n",
    "predictVideaTraits(audio_file_path)\n"
   ]
  }
 ],
 "metadata": {
  "kernelspec": {
   "display_name": "Python 3",
   "language": "python",
   "name": "python3"
  },
  "language_info": {
   "codemirror_mode": {
    "name": "ipython",
    "version": 3
   },
   "file_extension": ".py",
   "mimetype": "text/x-python",
   "name": "python",
   "nbconvert_exporter": "python",
   "pygments_lexer": "ipython3",
   "version": "3.12.0"
  }
 },
 "nbformat": 4,
 "nbformat_minor": 2
}
